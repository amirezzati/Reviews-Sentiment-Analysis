{
  "nbformat": 4,
  "nbformat_minor": 0,
  "metadata": {
    "colab": {
      "provenance": [],
      "collapsed_sections": [
        "5J01Zkp8TVU9",
        "F3JtGILIWdTl",
        "axVWDkIDacjR"
      ]
    },
    "kernelspec": {
      "name": "python3",
      "display_name": "Python 3"
    },
    "language_info": {
      "name": "python"
    }
  },
  "cells": [
    {
      "cell_type": "markdown",
      "source": [
        "# **Libraries & Constants**"
      ],
      "metadata": {
        "id": "5J01Zkp8TVU9"
      }
    },
    {
      "cell_type": "code",
      "execution_count": null,
      "metadata": {
        "id": "LPUVtJnzTECQ"
      },
      "outputs": [],
      "source": [
        "import pandas as pd\n",
        "import tensorflow as tf\n",
        "import numpy as np\n",
        "from keras.models import Sequential, load_model\n",
        "from keras.layers import Dense, Input, Softmax, BatchNormalization, Dropout, Conv2D, MaxPool2D, Embedding, Reshape, Flatten, LSTM, GRU, SimpleRNN, Concatenate, concatenate, RepeatVector, TimeDistributed, Bidirectional\n",
        "# from keras.layers.merge import concatenate\n",
        "from keras.losses import CategoricalCrossentropy\n",
        "from keras.metrics import CategoricalAccuracy\n",
        "from keras.preprocessing.text import Tokenizer\n",
        "from tensorflow.keras.optimizers import RMSprop, Adam, Adamax, Nadam, SGD\n",
        "from tensorflow.keras import Model\n",
        "from tensorflow.keras.optimizers.schedules import InverseTimeDecay, ExponentialDecay\n",
        "from tensorflow.keras.utils import to_categorical\n",
        "from keras.utils.vis_utils import plot_model\n",
        "from keras.callbacks import ModelCheckpoint\n",
        "from tensorflow.keras.preprocessing.sequence import pad_sequences #from keras.preprocessing.sequence import pad_sequences\n",
        "from sklearn.preprocessing import LabelEncoder\n",
        "from sklearn.model_selection import train_test_split, KFold\n",
        "from sklearn import metrics\n",
        "from matplotlib import pyplot as plt\n",
        "from sklearn.model_selection import KFold\n",
        "import os\n",
        "import string\n",
        "from google.colab import drive\n",
        "import json\n",
        "import pickle\n",
        "\n",
        "from nltk.tokenize import WhitespaceTokenizer\n",
        "from nltk.stem.porter import PorterStemmer\n",
        "import spacy\n",
        "import nltk\n",
        "nltk.download('stopwords')\n",
        "import re\n",
        "# from transformers import AutoTokenizer,BertTokenizer,TFBertModel\n",
        "\n",
        "import copy"
      ]
    },
    {
      "cell_type": "markdown",
      "source": [
        "# **Load Dataset and declare paths**"
      ],
      "metadata": {
        "id": "F3JtGILIWdTl"
      }
    },
    {
      "cell_type": "code",
      "source": [
        "drive.mount('/content/drive')\n",
        "basePath = '/content/drive/MyDrive/AI Projects/Sentiment-Analysis/'\n",
        "dataPath = basePath + 'amazon_reviews_us_Watches_v1_00.csv'"
      ],
      "metadata": {
        "id": "Qn1VtEjkW5Du"
      },
      "execution_count": null,
      "outputs": []
    },
    {
      "cell_type": "markdown",
      "source": [
        "# **Preprocessing**"
      ],
      "metadata": {
        "id": "axVWDkIDacjR"
      }
    },
    {
      "cell_type": "markdown",
      "source": [
        "## **Tokenization, Stemming, Removing Stop words and Punctuation**"
      ],
      "metadata": {
        "id": "5yLYIIwojpyp"
      }
    },
    {
      "cell_type": "code",
      "source": [
        "dataset = pd.read_csv(dataPath)"
      ],
      "metadata": {
        "colab": {
          "base_uri": "https://localhost:8080/"
        },
        "id": "pGcL20CdafvR",
        "outputId": "40779a5f-923d-4f7f-b333-6a1737ea59b3"
      },
      "execution_count": 6,
      "outputs": [
        {
          "output_type": "stream",
          "name": "stderr",
          "text": [
            "<ipython-input-6-5118f10c515a>:1: DtypeWarning: Columns (17,18,19,20,21) have mixed types. Specify dtype option on import or set low_memory=False.\n",
            "  dataset = pd.read_csv(dataPath)\n"
          ]
        }
      ]
    },
    {
      "cell_type": "code",
      "source": [
        "useless_features = ['review_date', 'verified_purchase'] + list(dataset.columns[8:11]) + list(dataset.columns[0:7]) + list(dataset.columns[-7:])\n",
        "print(useless_features)\n",
        "\n",
        "dataset.drop(columns=useless_features, inplace=True)\n",
        "# delete rows with nan elements\n",
        "dataset = dataset.dropna()"
      ],
      "metadata": {
        "colab": {
          "base_uri": "https://localhost:8080/"
        },
        "id": "K_yw5Ou9_f_x",
        "outputId": "c9b07939-60a2-4843-bf2c-a24dc69a4637"
      },
      "execution_count": 7,
      "outputs": [
        {
          "output_type": "stream",
          "name": "stdout",
          "text": [
            "['review_date', 'verified_purchase', 'helpful_votes', 'total_votes', 'vine', 'marketplace', 'customer_id', 'review_id', 'product_id', 'product_parent', 'product_title', 'product_category', 'Unnamed: 15', 'Unnamed: 16', 'Unnamed: 17', 'Unnamed: 18', 'Unnamed: 19', 'Unnamed: 20', 'Unnamed: 21']\n"
          ]
        }
      ]
    },
    {
      "cell_type": "code",
      "source": [
        "star_rating = np.array(dataset['star_rating'])\n",
        "review_headline = dataset['review_headline'].tolist()\n",
        "review_body = dataset['review_body'].tolist()"
      ],
      "metadata": {
        "id": "vJHCMOrJu5is"
      },
      "execution_count": 8,
      "outputs": []
    },
    {
      "cell_type": "code",
      "source": [
        "rev_class = np.empty_like(star_rating)\n",
        "for i  in range(len(rev_class)):\n",
        "  if star_rating[i] >= 4:\n",
        "    rev_class[i] = 1  # class1 : Pos Class\n",
        "  elif star_rating[i] <= 2:\n",
        "    rev_class[i] = 2  # class2 : Neg class\n",
        "  elif star_rating[i] == 3:\n",
        "    rev_class[i] = 3  # class3 : Neutral class\n",
        "\n",
        "dataset['rev_class'] = rev_class\n",
        "\n",
        "dataset.head()"
      ],
      "metadata": {
        "colab": {
          "base_uri": "https://localhost:8080/",
          "height": 206
        },
        "id": "rlWTYJW-DwXF",
        "outputId": "ff87a899-6b52-40a4-fd06-62e1436a9292"
      },
      "execution_count": 9,
      "outputs": [
        {
          "output_type": "execute_result",
          "data": {
            "text/plain": [
              "   star_rating                             review_headline  \\\n",
              "0            5                                  Five Stars   \n",
              "1            5  I love thiswatch it keeps time wonderfully   \n",
              "2            2                                   Two Stars   \n",
              "3            5                                  Five Stars   \n",
              "4            4    Beautiful face, but cheap sounding links   \n",
              "\n",
              "                                         review_body  rev_class  \n",
              "0  Absolutely love this watch! Get compliments al...          1  \n",
              "1       I love this watch it keeps time wonderfully.          1  \n",
              "2                                          Scratches          2  \n",
              "3  It works well on me. However, I found cheaper ...          1  \n",
              "4  Beautiful watch face.  The band looks nice all...          1  "
            ],
            "text/html": [
              "\n",
              "  <div id=\"df-fcaa6366-5896-4c57-8747-1a450734ac14\">\n",
              "    <div class=\"colab-df-container\">\n",
              "      <div>\n",
              "<style scoped>\n",
              "    .dataframe tbody tr th:only-of-type {\n",
              "        vertical-align: middle;\n",
              "    }\n",
              "\n",
              "    .dataframe tbody tr th {\n",
              "        vertical-align: top;\n",
              "    }\n",
              "\n",
              "    .dataframe thead th {\n",
              "        text-align: right;\n",
              "    }\n",
              "</style>\n",
              "<table border=\"1\" class=\"dataframe\">\n",
              "  <thead>\n",
              "    <tr style=\"text-align: right;\">\n",
              "      <th></th>\n",
              "      <th>star_rating</th>\n",
              "      <th>review_headline</th>\n",
              "      <th>review_body</th>\n",
              "      <th>rev_class</th>\n",
              "    </tr>\n",
              "  </thead>\n",
              "  <tbody>\n",
              "    <tr>\n",
              "      <th>0</th>\n",
              "      <td>5</td>\n",
              "      <td>Five Stars</td>\n",
              "      <td>Absolutely love this watch! Get compliments al...</td>\n",
              "      <td>1</td>\n",
              "    </tr>\n",
              "    <tr>\n",
              "      <th>1</th>\n",
              "      <td>5</td>\n",
              "      <td>I love thiswatch it keeps time wonderfully</td>\n",
              "      <td>I love this watch it keeps time wonderfully.</td>\n",
              "      <td>1</td>\n",
              "    </tr>\n",
              "    <tr>\n",
              "      <th>2</th>\n",
              "      <td>2</td>\n",
              "      <td>Two Stars</td>\n",
              "      <td>Scratches</td>\n",
              "      <td>2</td>\n",
              "    </tr>\n",
              "    <tr>\n",
              "      <th>3</th>\n",
              "      <td>5</td>\n",
              "      <td>Five Stars</td>\n",
              "      <td>It works well on me. However, I found cheaper ...</td>\n",
              "      <td>1</td>\n",
              "    </tr>\n",
              "    <tr>\n",
              "      <th>4</th>\n",
              "      <td>4</td>\n",
              "      <td>Beautiful face, but cheap sounding links</td>\n",
              "      <td>Beautiful watch face.  The band looks nice all...</td>\n",
              "      <td>1</td>\n",
              "    </tr>\n",
              "  </tbody>\n",
              "</table>\n",
              "</div>\n",
              "      <button class=\"colab-df-convert\" onclick=\"convertToInteractive('df-fcaa6366-5896-4c57-8747-1a450734ac14')\"\n",
              "              title=\"Convert this dataframe to an interactive table.\"\n",
              "              style=\"display:none;\">\n",
              "        \n",
              "  <svg xmlns=\"http://www.w3.org/2000/svg\" height=\"24px\"viewBox=\"0 0 24 24\"\n",
              "       width=\"24px\">\n",
              "    <path d=\"M0 0h24v24H0V0z\" fill=\"none\"/>\n",
              "    <path d=\"M18.56 5.44l.94 2.06.94-2.06 2.06-.94-2.06-.94-.94-2.06-.94 2.06-2.06.94zm-11 1L8.5 8.5l.94-2.06 2.06-.94-2.06-.94L8.5 2.5l-.94 2.06-2.06.94zm10 10l.94 2.06.94-2.06 2.06-.94-2.06-.94-.94-2.06-.94 2.06-2.06.94z\"/><path d=\"M17.41 7.96l-1.37-1.37c-.4-.4-.92-.59-1.43-.59-.52 0-1.04.2-1.43.59L10.3 9.45l-7.72 7.72c-.78.78-.78 2.05 0 2.83L4 21.41c.39.39.9.59 1.41.59.51 0 1.02-.2 1.41-.59l7.78-7.78 2.81-2.81c.8-.78.8-2.07 0-2.86zM5.41 20L4 18.59l7.72-7.72 1.47 1.35L5.41 20z\"/>\n",
              "  </svg>\n",
              "      </button>\n",
              "      \n",
              "  <style>\n",
              "    .colab-df-container {\n",
              "      display:flex;\n",
              "      flex-wrap:wrap;\n",
              "      gap: 12px;\n",
              "    }\n",
              "\n",
              "    .colab-df-convert {\n",
              "      background-color: #E8F0FE;\n",
              "      border: none;\n",
              "      border-radius: 50%;\n",
              "      cursor: pointer;\n",
              "      display: none;\n",
              "      fill: #1967D2;\n",
              "      height: 32px;\n",
              "      padding: 0 0 0 0;\n",
              "      width: 32px;\n",
              "    }\n",
              "\n",
              "    .colab-df-convert:hover {\n",
              "      background-color: #E2EBFA;\n",
              "      box-shadow: 0px 1px 2px rgba(60, 64, 67, 0.3), 0px 1px 3px 1px rgba(60, 64, 67, 0.15);\n",
              "      fill: #174EA6;\n",
              "    }\n",
              "\n",
              "    [theme=dark] .colab-df-convert {\n",
              "      background-color: #3B4455;\n",
              "      fill: #D2E3FC;\n",
              "    }\n",
              "\n",
              "    [theme=dark] .colab-df-convert:hover {\n",
              "      background-color: #434B5C;\n",
              "      box-shadow: 0px 1px 3px 1px rgba(0, 0, 0, 0.15);\n",
              "      filter: drop-shadow(0px 1px 2px rgba(0, 0, 0, 0.3));\n",
              "      fill: #FFFFFF;\n",
              "    }\n",
              "  </style>\n",
              "\n",
              "      <script>\n",
              "        const buttonEl =\n",
              "          document.querySelector('#df-fcaa6366-5896-4c57-8747-1a450734ac14 button.colab-df-convert');\n",
              "        buttonEl.style.display =\n",
              "          google.colab.kernel.accessAllowed ? 'block' : 'none';\n",
              "\n",
              "        async function convertToInteractive(key) {\n",
              "          const element = document.querySelector('#df-fcaa6366-5896-4c57-8747-1a450734ac14');\n",
              "          const dataTable =\n",
              "            await google.colab.kernel.invokeFunction('convertToInteractive',\n",
              "                                                     [key], {});\n",
              "          if (!dataTable) return;\n",
              "\n",
              "          const docLinkHtml = 'Like what you see? Visit the ' +\n",
              "            '<a target=\"_blank\" href=https://colab.research.google.com/notebooks/data_table.ipynb>data table notebook</a>'\n",
              "            + ' to learn more about interactive tables.';\n",
              "          element.innerHTML = '';\n",
              "          dataTable['output_type'] = 'display_data';\n",
              "          await google.colab.output.renderOutput(dataTable, element);\n",
              "          const docLink = document.createElement('div');\n",
              "          docLink.innerHTML = docLinkHtml;\n",
              "          element.appendChild(docLink);\n",
              "        }\n",
              "      </script>\n",
              "    </div>\n",
              "  </div>\n",
              "  "
            ]
          },
          "metadata": {},
          "execution_count": 9
        }
      ]
    },
    {
      "cell_type": "code",
      "source": [
        "rev_class.shape"
      ],
      "metadata": {
        "colab": {
          "base_uri": "https://localhost:8080/"
        },
        "id": "YHiX0vfldDsF",
        "outputId": "419cc1ca-f978-4a95-e40e-67aee4073fea"
      },
      "execution_count": 10,
      "outputs": [
        {
          "output_type": "execute_result",
          "data": {
            "text/plain": [
              "(960082,)"
            ]
          },
          "metadata": {},
          "execution_count": 10
        }
      ]
    },
    {
      "cell_type": "code",
      "source": [
        "def w_tokenizer(text):\n",
        "  tokenizer = WhitespaceTokenizer()\n",
        "  tokenized_list = tokenizer.tokenize(text)\n",
        "  return tokenized_list\n",
        "\n",
        "def stemmer_porter(text_list):\n",
        "  porter = PorterStemmer()\n",
        "  return_list = []\n",
        "  for i in range(len(text_list)):\n",
        "      return_list.append(porter.stem(text_list[i]))\n",
        "  return(return_list)\n",
        "\n",
        "\n",
        "def remove_stopwords(text_list):\n",
        "  NLTK_stopwords = nltk.corpus.stopwords.words('english')\n",
        "  return_list = []\n",
        "  for i in range(len(text_list)):\n",
        "      if text_list[i] not in NLTK_stopwords:\n",
        "          return_list.append(text_list[i])\n",
        "  return return_list\n",
        "\n",
        "def remove_punc(text):\n",
        "    if isinstance((text), (str)):\n",
        "        text = re.sub('<[^>]*>', '', text)\n",
        "        text = re.sub('[\\W]+', '', text.lower())\n",
        "        return text\n",
        "    if isinstance((text), (list)):\n",
        "        return_list = []\n",
        "        for i in range(len(text)):\n",
        "            temp_text = re.sub('<[^>]*>', '', text[i])\n",
        "            temp_text = re.sub('[\\W]+', '', temp_text.lower())\n",
        "            return_list.append(temp_text)\n",
        "        return(return_list)\n",
        "    else:\n",
        "        pass\n",
        "\n",
        "def preprocess_sentence(sentence):\n",
        "  return remove_stopwords(stemmer_porter(remove_punc(w_tokenizer(sentence))))"
      ],
      "metadata": {
        "id": "idWTMzO6exZZ"
      },
      "execution_count": 20,
      "outputs": []
    },
    {
      "cell_type": "code",
      "source": [
        "print(review_body[1])\n",
        "print(preprocess_sentence(review_body[1]))"
      ],
      "metadata": {
        "colab": {
          "base_uri": "https://localhost:8080/"
        },
        "id": "njI3_e9QmqgU",
        "outputId": "1de349f5-cf94-4eb3-b0b9-34afb03d479d"
      },
      "execution_count": 21,
      "outputs": [
        {
          "output_type": "stream",
          "name": "stdout",
          "text": [
            "I love this watch it keeps time wonderfully.\n",
            "['love', 'thi', 'watch', 'keep', 'time', 'wonder']\n"
          ]
        }
      ]
    },
    {
      "cell_type": "code",
      "source": [
        "preprocessed_review_headline = [preprocess_sentence(x) for x in review_headline]\n",
        "preprocessed_review_body = [preprocess_sentence(x) for x in review_body]\n",
        "\n",
        "\n",
        "# calculate maximum number of unique words in review_body and review headline\n",
        "preprocessed_review_headline_flat = [item for sublist in preprocessed_review_headline for item in sublist]\n",
        "preprocessed_review_body_flat = [item for sublist in preprocessed_review_body for item in sublist]\n",
        "numberOfUniqueWords = np.unique(preprocessed_review_headline_flat + preprocessed_review_body_flat).shape[0]"
      ],
      "metadata": {
        "id": "e9VmwzHXaeJo"
      },
      "execution_count": 22,
      "outputs": []
    },
    {
      "cell_type": "code",
      "source": [
        "# Keras Tokenizer\n",
        "filters = '!\"#$%&()*+,-./:;<=>?@[\\\\]^_`{|}~\\t\\n'\n",
        "num_words = 20000\n",
        "\n",
        "sentenceTokenizer = Tokenizer(num_words=num_words, filters=filters, split=' ', oov_token='UNK')\n",
        "sentenceTokenizer.fit_on_texts(preprocessed_review_headline)\n",
        "sentenceTokenizer.fit_on_texts(preprocessed_review_body)\n",
        "\n",
        "review_headline_encoded = sentenceTokenizer.texts_to_sequences(preprocessed_review_headline)\n",
        "review_body_encoded = sentenceTokenizer.texts_to_sequences(preprocessed_review_body)\n",
        "\n",
        "\n",
        "# save encoded file\n",
        "encoded_file = open(basePath+'review_headline_encoded.pkl', \"wb\")\n",
        "pickle.dump(review_headline_encoded, encoded_file)\n",
        "encoded_file.close()\n",
        "\n",
        "encoded_file = open(basePath+'review_body_encoded.pkl', \"wb\")\n",
        "pickle.dump(review_body_encoded, encoded_file)\n",
        "encoded_file.close()"
      ],
      "metadata": {
        "id": "rfq9Jm9N7l_r"
      },
      "execution_count": 23,
      "outputs": []
    },
    {
      "cell_type": "code",
      "source": [
        "preprocessed_review_headline[4], review_headline_encoded[4]"
      ],
      "metadata": {
        "colab": {
          "base_uri": "https://localhost:8080/"
        },
        "id": "4h4HpuewR0et",
        "outputId": "b2893451-d2fb-43c6-eda9-b14d40aab4d1"
      },
      "execution_count": 25,
      "outputs": [
        {
          "output_type": "execute_result",
          "data": {
            "text/plain": [
              "(['beauti', 'face', 'cheap', 'sound', 'link'], [32, 33, 93, 669, 116])"
            ]
          },
          "metadata": {},
          "execution_count": 25
        }
      ]
    },
    {
      "cell_type": "markdown",
      "source": [
        "## **Encoding review_body and review_headline**"
      ],
      "metadata": {
        "id": "sFHMK3PpkU5l"
      }
    },
    {
      "cell_type": "code",
      "source": [
        "# loading encoded file\n",
        "encoded_file = open(basePath+'review_headline_encoded.pkl', \"rb\")\n",
        "review_headline_encoded = pickle.load(encoded_file)\n",
        "encoded_file.close()\n",
        "\n",
        "encoded_file = open(basePath+'review_body_encoded.pkl', \"rb\")\n",
        "review_body_encoded = pickle.load(encoded_file)\n",
        "encoded_file.close()"
      ],
      "metadata": {
        "id": "snvE2Di5D67Y"
      },
      "execution_count": null,
      "outputs": []
    }
  ]
}