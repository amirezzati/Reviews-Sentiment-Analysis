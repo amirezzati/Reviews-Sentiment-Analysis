{
  "cells": [
    {
      "cell_type": "markdown",
      "metadata": {
        "id": "5J01Zkp8TVU9"
      },
      "source": [
        "# **Libraries & Constants**"
      ]
    },
    {
      "cell_type": "code",
      "execution_count": null,
      "metadata": {
        "id": "LPUVtJnzTECQ"
      },
      "outputs": [],
      "source": [
        "import pandas as pd\n",
        "import tensorflow as tf\n",
        "import numpy as np\n",
        "from keras.models import Sequential, load_model\n",
        "from keras.layers import Dense, Input, Softmax, BatchNormalization, Dropout, Conv2D, MaxPool2D, Embedding, Reshape, Flatten, LSTM, GRU, SimpleRNN, Concatenate, concatenate, RepeatVector, TimeDistributed, Bidirectional\n",
        "# from keras.layers.merge import concatenate\n",
        "from keras.losses import CategoricalCrossentropy\n",
        "from keras.metrics import CategoricalAccuracy\n",
        "from keras.preprocessing.text import Tokenizer\n",
        "from tensorflow.keras.optimizers import RMSprop, Adam, Adamax, Nadam, SGD\n",
        "from tensorflow.keras import Model\n",
        "from tensorflow.keras.optimizers.schedules import InverseTimeDecay, ExponentialDecay\n",
        "from tensorflow.keras.utils import to_categorical\n",
        "from keras.utils.vis_utils import plot_model\n",
        "from keras.callbacks import ModelCheckpoint\n",
        "from tensorflow.keras.preprocessing.sequence import pad_sequences #from keras.preprocessing.sequence import pad_sequences\n",
        "from sklearn.feature_extraction.text import TfidfVectorizer\n",
        "from sklearn.preprocessing import LabelEncoder\n",
        "from sklearn.model_selection import train_test_split, KFold\n",
        "from sklearn import metrics\n",
        "from matplotlib import pyplot as plt\n",
        "from sklearn.model_selection import KFold\n",
        "from scipy import sparse\n",
        "import os\n",
        "import string\n",
        "from google.colab import drive\n",
        "import json\n",
        "import pickle\n",
        "\n",
        "from nltk.tokenize import WhitespaceTokenizer\n",
        "from nltk.stem.porter import PorterStemmer\n",
        "import spacy\n",
        "import nltk\n",
        "nltk.download('stopwords')\n",
        "import re\n",
        "# from transformers import AutoTokenizer,BertTokenizer,TFBertModel\n",
        "\n",
        "import copy"
      ]
    },
    {
      "cell_type": "markdown",
      "metadata": {
        "id": "F3JtGILIWdTl"
      },
      "source": [
        "# **Load Dataset and declare paths**"
      ]
    },
    {
      "cell_type": "code",
      "execution_count": null,
      "metadata": {
        "id": "Qn1VtEjkW5Du"
      },
      "outputs": [],
      "source": [
        "drive.mount('/content/drive')\n",
        "basePath = '/content/drive/MyDrive/AI Projects/Sentiment-Analysis/'\n",
        "dataPath = basePath + 'amazon_reviews_us_Watches_v1_00.csv'"
      ]
    },
    {
      "cell_type": "markdown",
      "metadata": {
        "id": "axVWDkIDacjR"
      },
      "source": [
        "# **Preprocessing**"
      ]
    },
    {
      "cell_type": "markdown",
      "metadata": {
        "id": "5yLYIIwojpyp"
      },
      "source": [
        "## **Tokenization, Stemming, Removing Stop words and Punctuation**"
      ]
    },
    {
      "cell_type": "code",
      "source": [
        "dataset = pd.read_csv(dataPath)"
      ],
      "metadata": {
        "colab": {
          "base_uri": "https://localhost:8080/"
        },
        "id": "q0PP0Aztwdv2",
        "outputId": "0768fe30-ab4e-4f5f-e4b2-a62dbd84f01d"
      },
      "execution_count": 102,
      "outputs": [
        {
          "output_type": "stream",
          "name": "stderr",
          "text": [
            "<ipython-input-102-5118f10c515a>:1: DtypeWarning: Columns (17,18,19,20,21) have mixed types. Specify dtype option on import or set low_memory=False.\n",
            "  dataset = pd.read_csv(dataPath)\n"
          ]
        }
      ]
    },
    {
      "cell_type": "code",
      "execution_count": 103,
      "metadata": {
        "colab": {
          "base_uri": "https://localhost:8080/"
        },
        "id": "K_yw5Ou9_f_x",
        "outputId": "40afc22f-636e-499a-8b85-ca002a52dd5c"
      },
      "outputs": [
        {
          "output_type": "stream",
          "name": "stdout",
          "text": [
            "['review_date', 'verified_purchase', 'helpful_votes', 'total_votes', 'vine', 'marketplace', 'customer_id', 'review_id', 'product_id', 'product_parent', 'product_title', 'product_category', 'Unnamed: 15', 'Unnamed: 16', 'Unnamed: 17', 'Unnamed: 18', 'Unnamed: 19', 'Unnamed: 20', 'Unnamed: 21']\n"
          ]
        }
      ],
      "source": [
        "useless_features = ['review_date', 'verified_purchase'] + list(dataset.columns[8:11]) + list(dataset.columns[0:7]) + list(dataset.columns[-7:])\n",
        "print(useless_features)\n",
        "\n",
        "dataset.drop(columns=useless_features, inplace=True)\n",
        "# delete rows with nan elements\n",
        "dataset = dataset.dropna()"
      ]
    },
    {
      "cell_type": "code",
      "execution_count": 104,
      "metadata": {
        "colab": {
          "base_uri": "https://localhost:8080/",
          "height": 206
        },
        "id": "rlWTYJW-DwXF",
        "outputId": "5bc9f65f-da35-4dac-fa2d-9c575a1f0eb8"
      },
      "outputs": [
        {
          "output_type": "execute_result",
          "data": {
            "text/plain": [
              "   star_rating                             review_headline  \\\n",
              "0            5                                  Five Stars   \n",
              "1            5  I love thiswatch it keeps time wonderfully   \n",
              "2            2                                   Two Stars   \n",
              "3            5                                  Five Stars   \n",
              "4            4    Beautiful face, but cheap sounding links   \n",
              "\n",
              "                                         review_body  rev_class  \n",
              "0  Absolutely love this watch! Get compliments al...          1  \n",
              "1       I love this watch it keeps time wonderfully.          1  \n",
              "2                                          Scratches          2  \n",
              "3  It works well on me. However, I found cheaper ...          1  \n",
              "4  Beautiful watch face.  The band looks nice all...          1  "
            ],
            "text/html": [
              "\n",
              "  <div id=\"df-4b25960e-f8ef-4e49-89a3-011b99cdeccc\">\n",
              "    <div class=\"colab-df-container\">\n",
              "      <div>\n",
              "<style scoped>\n",
              "    .dataframe tbody tr th:only-of-type {\n",
              "        vertical-align: middle;\n",
              "    }\n",
              "\n",
              "    .dataframe tbody tr th {\n",
              "        vertical-align: top;\n",
              "    }\n",
              "\n",
              "    .dataframe thead th {\n",
              "        text-align: right;\n",
              "    }\n",
              "</style>\n",
              "<table border=\"1\" class=\"dataframe\">\n",
              "  <thead>\n",
              "    <tr style=\"text-align: right;\">\n",
              "      <th></th>\n",
              "      <th>star_rating</th>\n",
              "      <th>review_headline</th>\n",
              "      <th>review_body</th>\n",
              "      <th>rev_class</th>\n",
              "    </tr>\n",
              "  </thead>\n",
              "  <tbody>\n",
              "    <tr>\n",
              "      <th>0</th>\n",
              "      <td>5</td>\n",
              "      <td>Five Stars</td>\n",
              "      <td>Absolutely love this watch! Get compliments al...</td>\n",
              "      <td>1</td>\n",
              "    </tr>\n",
              "    <tr>\n",
              "      <th>1</th>\n",
              "      <td>5</td>\n",
              "      <td>I love thiswatch it keeps time wonderfully</td>\n",
              "      <td>I love this watch it keeps time wonderfully.</td>\n",
              "      <td>1</td>\n",
              "    </tr>\n",
              "    <tr>\n",
              "      <th>2</th>\n",
              "      <td>2</td>\n",
              "      <td>Two Stars</td>\n",
              "      <td>Scratches</td>\n",
              "      <td>2</td>\n",
              "    </tr>\n",
              "    <tr>\n",
              "      <th>3</th>\n",
              "      <td>5</td>\n",
              "      <td>Five Stars</td>\n",
              "      <td>It works well on me. However, I found cheaper ...</td>\n",
              "      <td>1</td>\n",
              "    </tr>\n",
              "    <tr>\n",
              "      <th>4</th>\n",
              "      <td>4</td>\n",
              "      <td>Beautiful face, but cheap sounding links</td>\n",
              "      <td>Beautiful watch face.  The band looks nice all...</td>\n",
              "      <td>1</td>\n",
              "    </tr>\n",
              "  </tbody>\n",
              "</table>\n",
              "</div>\n",
              "      <button class=\"colab-df-convert\" onclick=\"convertToInteractive('df-4b25960e-f8ef-4e49-89a3-011b99cdeccc')\"\n",
              "              title=\"Convert this dataframe to an interactive table.\"\n",
              "              style=\"display:none;\">\n",
              "        \n",
              "  <svg xmlns=\"http://www.w3.org/2000/svg\" height=\"24px\"viewBox=\"0 0 24 24\"\n",
              "       width=\"24px\">\n",
              "    <path d=\"M0 0h24v24H0V0z\" fill=\"none\"/>\n",
              "    <path d=\"M18.56 5.44l.94 2.06.94-2.06 2.06-.94-2.06-.94-.94-2.06-.94 2.06-2.06.94zm-11 1L8.5 8.5l.94-2.06 2.06-.94-2.06-.94L8.5 2.5l-.94 2.06-2.06.94zm10 10l.94 2.06.94-2.06 2.06-.94-2.06-.94-.94-2.06-.94 2.06-2.06.94z\"/><path d=\"M17.41 7.96l-1.37-1.37c-.4-.4-.92-.59-1.43-.59-.52 0-1.04.2-1.43.59L10.3 9.45l-7.72 7.72c-.78.78-.78 2.05 0 2.83L4 21.41c.39.39.9.59 1.41.59.51 0 1.02-.2 1.41-.59l7.78-7.78 2.81-2.81c.8-.78.8-2.07 0-2.86zM5.41 20L4 18.59l7.72-7.72 1.47 1.35L5.41 20z\"/>\n",
              "  </svg>\n",
              "      </button>\n",
              "      \n",
              "  <style>\n",
              "    .colab-df-container {\n",
              "      display:flex;\n",
              "      flex-wrap:wrap;\n",
              "      gap: 12px;\n",
              "    }\n",
              "\n",
              "    .colab-df-convert {\n",
              "      background-color: #E8F0FE;\n",
              "      border: none;\n",
              "      border-radius: 50%;\n",
              "      cursor: pointer;\n",
              "      display: none;\n",
              "      fill: #1967D2;\n",
              "      height: 32px;\n",
              "      padding: 0 0 0 0;\n",
              "      width: 32px;\n",
              "    }\n",
              "\n",
              "    .colab-df-convert:hover {\n",
              "      background-color: #E2EBFA;\n",
              "      box-shadow: 0px 1px 2px rgba(60, 64, 67, 0.3), 0px 1px 3px 1px rgba(60, 64, 67, 0.15);\n",
              "      fill: #174EA6;\n",
              "    }\n",
              "\n",
              "    [theme=dark] .colab-df-convert {\n",
              "      background-color: #3B4455;\n",
              "      fill: #D2E3FC;\n",
              "    }\n",
              "\n",
              "    [theme=dark] .colab-df-convert:hover {\n",
              "      background-color: #434B5C;\n",
              "      box-shadow: 0px 1px 3px 1px rgba(0, 0, 0, 0.15);\n",
              "      filter: drop-shadow(0px 1px 2px rgba(0, 0, 0, 0.3));\n",
              "      fill: #FFFFFF;\n",
              "    }\n",
              "  </style>\n",
              "\n",
              "      <script>\n",
              "        const buttonEl =\n",
              "          document.querySelector('#df-4b25960e-f8ef-4e49-89a3-011b99cdeccc button.colab-df-convert');\n",
              "        buttonEl.style.display =\n",
              "          google.colab.kernel.accessAllowed ? 'block' : 'none';\n",
              "\n",
              "        async function convertToInteractive(key) {\n",
              "          const element = document.querySelector('#df-4b25960e-f8ef-4e49-89a3-011b99cdeccc');\n",
              "          const dataTable =\n",
              "            await google.colab.kernel.invokeFunction('convertToInteractive',\n",
              "                                                     [key], {});\n",
              "          if (!dataTable) return;\n",
              "\n",
              "          const docLinkHtml = 'Like what you see? Visit the ' +\n",
              "            '<a target=\"_blank\" href=https://colab.research.google.com/notebooks/data_table.ipynb>data table notebook</a>'\n",
              "            + ' to learn more about interactive tables.';\n",
              "          element.innerHTML = '';\n",
              "          dataTable['output_type'] = 'display_data';\n",
              "          await google.colab.output.renderOutput(dataTable, element);\n",
              "          const docLink = document.createElement('div');\n",
              "          docLink.innerHTML = docLinkHtml;\n",
              "          element.appendChild(docLink);\n",
              "        }\n",
              "      </script>\n",
              "    </div>\n",
              "  </div>\n",
              "  "
            ]
          },
          "metadata": {},
          "execution_count": 104
        }
      ],
      "source": [
        "review_headline = np.array(dataset['review_headline'])\n",
        "review_body = np.array(dataset['review_body'])\n",
        "star_rating = np.array(dataset['star_rating'])\n",
        "rev_class = np.empty_like(star_rating)\n",
        "\n",
        "for i  in range(len(rev_class)):\n",
        "  if star_rating[i] >= 4:\n",
        "    rev_class[i] = 1  # class1 : Pos Class\n",
        "  elif star_rating[i] <= 2:\n",
        "    rev_class[i] = 2  # class2 : Neg class\n",
        "  elif star_rating[i] == 3:\n",
        "    rev_class[i] = 3  # class3 : Neutral class\n",
        "\n",
        "dataset['rev_class'] = rev_class\n",
        "\n",
        "dataset.head()"
      ]
    },
    {
      "cell_type": "code",
      "execution_count": 105,
      "metadata": {
        "colab": {
          "base_uri": "https://localhost:8080/"
        },
        "id": "YHiX0vfldDsF",
        "outputId": "d3f62598-029d-4493-b698-9b1f1ff4d04d"
      },
      "outputs": [
        {
          "output_type": "execute_result",
          "data": {
            "text/plain": [
              "(960082,)"
            ]
          },
          "metadata": {},
          "execution_count": 105
        }
      ],
      "source": [
        "rev_class.shape"
      ]
    },
    {
      "cell_type": "code",
      "source": [
        "pos_indices = np.where(rev_class == 1)[0]\n",
        "neg_indices = np.where(rev_class == 2)[0]\n",
        "neut_indice = np.where(rev_class == 3)[0]\n",
        "\n",
        "np.random.seed(5)\n",
        "pos_indices = np.random.choice(pos_indices, size=3300, replace=False)\n",
        "neg_indices = np.random.choice(neg_indices, size=3300, replace=False)\n",
        "neut_indices = np.random.choice(neut_indice, size=3400, replace=False)\n",
        "\n",
        "sample_indices = np.concatenate([pos_indices, neg_indices, neut_indices], axis=0)\n",
        "sample_indices"
      ],
      "metadata": {
        "colab": {
          "base_uri": "https://localhost:8080/"
        },
        "id": "znYf7uICQ2v3",
        "outputId": "a3310680-48d3-4e0a-b590-6bea8ffe1601"
      },
      "execution_count": 106,
      "outputs": [
        {
          "output_type": "execute_result",
          "data": {
            "text/plain": [
              "array([704698, 659317,  69078, ..., 242400, 285939, 890903])"
            ]
          },
          "metadata": {},
          "execution_count": 106
        }
      ]
    },
    {
      "cell_type": "code",
      "source": [
        "review_headline_sample = np.take(review_headline, sample_indices)\n",
        "review_body_sample = np.take(review_body, sample_indices)\n",
        "rev_class_sample = np.take(rev_class, sample_indices)\n",
        "\n",
        "np.save(basePath + 'review_class.npy', rev_class_sample)\n",
        "\n",
        "rev_class_sample.shape, review_body_sample.shape, review_headline_sample.shape"
      ],
      "metadata": {
        "colab": {
          "base_uri": "https://localhost:8080/"
        },
        "id": "EhsLsDAIkvqQ",
        "outputId": "6e9956d2-5c5a-40f1-c195-63d8856abaed"
      },
      "execution_count": 107,
      "outputs": [
        {
          "output_type": "execute_result",
          "data": {
            "text/plain": [
              "((10000,), (10000,), (10000,))"
            ]
          },
          "metadata": {},
          "execution_count": 107
        }
      ]
    },
    {
      "cell_type": "code",
      "execution_count": 108,
      "metadata": {
        "id": "idWTMzO6exZZ"
      },
      "outputs": [],
      "source": [
        "def w_tokenizer(text):\n",
        "  tokenizer = WhitespaceTokenizer()\n",
        "  tokenized_list = tokenizer.tokenize(text)\n",
        "  return tokenized_list\n",
        "\n",
        "def stemmer_porter(text_list):\n",
        "  porter = PorterStemmer()\n",
        "  return_list = []\n",
        "  for i in range(len(text_list)):\n",
        "      return_list.append(porter.stem(text_list[i]))\n",
        "  return(return_list)\n",
        "\n",
        "\n",
        "def remove_stopwords(text_list):\n",
        "  NLTK_stopwords = nltk.corpus.stopwords.words('english')\n",
        "  return_list = []\n",
        "  for i in range(len(text_list)):\n",
        "      if text_list[i] not in NLTK_stopwords:\n",
        "          return_list.append(text_list[i])\n",
        "  return return_list\n",
        "\n",
        "def remove_punc(text):\n",
        "    if isinstance((text), (str)):\n",
        "        text = re.sub('<[^>]*>', '', text)\n",
        "        text = re.sub('[\\W]+', '', text.lower())\n",
        "        return text\n",
        "    if isinstance((text), (list)):\n",
        "        return_list = []\n",
        "        for i in range(len(text)):\n",
        "            temp_text = re.sub('<[^>]*>', '', text[i])\n",
        "            temp_text = re.sub('[\\W]+', '', temp_text.lower())\n",
        "            temp_text = re.sub('[0-9][0-9]+', '', temp_text.lower())\n",
        "            temp_text = re.sub('\\bbr\\b', '', temp_text.lower())\n",
        "            return_list.append(temp_text)\n",
        "        return(return_list)\n",
        "    else:\n",
        "        pass\n",
        "\n",
        "def preprocess_sentence(sentence):\n",
        "  return remove_stopwords(stemmer_porter(remove_punc(w_tokenizer(sentence))))"
      ]
    },
    {
      "cell_type": "code",
      "execution_count": 109,
      "metadata": {
        "id": "e9VmwzHXaeJo"
      },
      "outputs": [],
      "source": [
        "with tf.device('/GPU:0'):\n",
        "  preprocessed_review_headline = [preprocess_sentence(x) for x in review_headline_sample]\n",
        "  preprocessed_review_body = [preprocess_sentence(x) for x in review_body_sample]\n",
        "\n",
        "preprocessed_review_headline_length = len(preprocessed_review_headline)\n",
        "preprocessed_review_body_length = len(preprocessed_review_body)"
      ]
    },
    {
      "cell_type": "code",
      "execution_count": 110,
      "metadata": {
        "colab": {
          "base_uri": "https://localhost:8080/"
        },
        "id": "njI3_e9QmqgU",
        "outputId": "663f1ea4-323e-4c4e-c12c-57ebbf09170f"
      },
      "outputs": [
        {
          "output_type": "stream",
          "name": "stdout",
          "text": [
            "送人用的，希望会喜欢。To send people, hope you like\n",
            "['送人用的希望会喜欢to', 'send', 'peopl', 'hope', 'like']\n"
          ]
        }
      ],
      "source": [
        "print(review_headline[484344])\n",
        "print(preprocess_sentence(review_headline[484344]))"
      ]
    },
    {
      "cell_type": "code",
      "execution_count": 111,
      "metadata": {
        "colab": {
          "base_uri": "https://localhost:8080/"
        },
        "id": "cSQHz7rCvmti",
        "outputId": "be9c9f75-f8f2-40f8-8823-fa1c9e2776b6"
      },
      "outputs": [
        {
          "output_type": "stream",
          "name": "stderr",
          "text": [
            "/usr/local/lib/python3.10/dist-packages/sklearn/feature_extraction/text.py:528: UserWarning: The parameter 'token_pattern' will not be used since 'tokenizer' is not None'\n",
            "  warnings.warn(\n",
            "/usr/local/lib/python3.10/dist-packages/sklearn/feature_extraction/text.py:409: UserWarning: Your stop_words may be inconsistent with your preprocessing. Tokenizing the stop words generated tokens ['b', 'c', 'd', 'e', 'f', 'g', 'h', 'k', 'l', 'm', 'n', 'o', 'p', 'r', 's', 't', 'u', 'v', 'w', 'x', 'y'] not in stop_words.\n",
            "  warnings.warn(\n"
          ]
        }
      ],
      "source": [
        "# Tfidf Vectorizer (convert tokens to vector)\n",
        "def identity_tokenizer(text):\n",
        "    return text\n",
        "\n",
        "vectorizer = TfidfVectorizer(tokenizer=identity_tokenizer, analyzer='word', stop_words='english', lowercase=False, max_features=1000) #, token_pattern='(\\d{0,2}[a-zA-Z]+\\d{0,2}[a-zA-Z]*$)'\n",
        "review_vector = vectorizer.fit_transform(preprocessed_review_headline + preprocessed_review_body)\n",
        "\n",
        "sparse.save_npz(basePath + \"review_vector_csr_matrix.npz\", review_vector)\n",
        "\n",
        "review_headline_vector = review_vector.toarray()[:preprocessed_review_headline_length]\n",
        "review_body_vector = review_vector.toarray()[preprocessed_review_headline_length:]"
      ]
    },
    {
      "cell_type": "code",
      "execution_count": 112,
      "metadata": {
        "id": "DOaQUha_wsXn",
        "colab": {
          "base_uri": "https://localhost:8080/"
        },
        "outputId": "a91ecd86-d6f6-4b28-f637-669c5d6f7935"
      },
      "outputs": [
        {
          "output_type": "stream",
          "name": "stdout",
          "text": [
            "number of features in tfidf:  1000\n"
          ]
        }
      ],
      "source": [
        "tfidf_features = vectorizer.get_feature_names_out()\n",
        "print('number of features in tfidf: ', len(tfidf_features))"
      ]
    },
    {
      "cell_type": "code",
      "source": [
        "print('review_headline_vector shape: ', review_headline_vector.shape)\n",
        "print('review_body_vector shape: ', review_body_vector.shape)"
      ],
      "metadata": {
        "id": "HWbQ1nSOGrph",
        "colab": {
          "base_uri": "https://localhost:8080/"
        },
        "outputId": "f227d005-a4d0-428e-96e5-9671c7d34ad4"
      },
      "execution_count": 113,
      "outputs": [
        {
          "output_type": "stream",
          "name": "stdout",
          "text": [
            "review_headline_vector shape:  (10000, 1000)\n",
            "review_body_vector shape:  (10000, 1000)\n"
          ]
        }
      ]
    },
    {
      "cell_type": "code",
      "source": [
        "preprocessed_review_headline[:5]"
      ],
      "metadata": {
        "id": "4ZFkwBZcHRyp",
        "colab": {
          "base_uri": "https://localhost:8080/"
        },
        "outputId": "50470b15-e0f8-4010-9e8a-a87b1f105c29"
      },
      "execution_count": 114,
      "outputs": [
        {
          "output_type": "execute_result",
          "data": {
            "text/plain": [
              "[['doe', 'job'],\n",
              " ['decent', 'watch', 'hard', 'adjust', 'band'],\n",
              " ['five', 'star'],\n",
              " ['huge', 'hit'],\n",
              " ['fantast', 'watch']]"
            ]
          },
          "metadata": {},
          "execution_count": 114
        }
      ]
    },
    {
      "cell_type": "code",
      "execution_count": 115,
      "metadata": {
        "id": "Gl7dSC7QxqXb",
        "colab": {
          "base_uri": "https://localhost:8080/"
        },
        "outputId": "6076e4e1-28f3-405d-92d5-c17effdd7792"
      },
      "outputs": [
        {
          "output_type": "execute_result",
          "data": {
            "text/plain": [
              "array([[0., 0., 0., ..., 0., 0., 0.],\n",
              "       [0., 0., 0., ..., 0., 0., 0.],\n",
              "       [0., 0., 0., ..., 0., 0., 0.],\n",
              "       [0., 0., 0., ..., 0., 0., 0.],\n",
              "       [0., 0., 0., ..., 0., 0., 0.]])"
            ]
          },
          "metadata": {},
          "execution_count": 115
        }
      ],
      "source": [
        "review_headline_vector[:5]"
      ]
    },
    {
      "cell_type": "markdown",
      "metadata": {
        "id": "sFHMK3PpkU5l"
      },
      "source": [
        "## **Load Preprocessed Dataset**"
      ]
    },
    {
      "cell_type": "code",
      "source": [
        "review_vector = sparse.load_npz(basePath + \"review_vector_csr_matrix.npz\")\n",
        "\n",
        "preprocessed_review_headline_length = 10000\n",
        "review_headline_vector = review_vector.toarray()[:preprocessed_review_headline_length]\n",
        "review_body_vector = review_vector.toarray()[preprocessed_review_headline_length:]\n",
        "review_class = np.load(basePath + 'review_class.npy')\n",
        "\n",
        "review_headline_vector.shape, review_body_vector.shape, review_class.shape"
      ],
      "metadata": {
        "id": "FX12E4FxxdQ6",
        "colab": {
          "base_uri": "https://localhost:8080/"
        },
        "outputId": "4332d00d-1892-4ec0-fa7b-aba4f34133a5"
      },
      "execution_count": 122,
      "outputs": [
        {
          "output_type": "execute_result",
          "data": {
            "text/plain": [
              "((10000, 1000), (10000, 1000), (10000,))"
            ]
          },
          "metadata": {},
          "execution_count": 122
        }
      ]
    },
    {
      "cell_type": "markdown",
      "source": [
        "**Splitting Dataset**"
      ],
      "metadata": {
        "id": "AnfEqnMLRrNW"
      }
    },
    {
      "cell_type": "code",
      "source": [
        "headline_train, headline_test, body_train, body_test, y_train, y_test = train_test_split(review_headline_vector, review_body_vector, review_class, test_size=0.40, random_state=75)\n",
        "headline_dev, headline_test, body_dev, body_test, y_dev, y_test = train_test_split(headline_test, body_test, y_test, test_size=0.50, random_state=75)\n",
        "\n",
        "print('train shape: ', headline_train.shape, body_train.shape, y_train.shape)\n",
        "print('dev shape: ', headline_dev.shape, body_dev.shape, y_dev.shape)\n",
        "print('test shape: ', headline_test.shape, body_test.shape, y_test.shape)"
      ],
      "metadata": {
        "colab": {
          "base_uri": "https://localhost:8080/"
        },
        "id": "A6_nNyOs3Pwp",
        "outputId": "9e36157d-e91a-4561-bf24-deb3f48b5689"
      },
      "execution_count": 138,
      "outputs": [
        {
          "output_type": "stream",
          "name": "stdout",
          "text": [
            "train shape:  (6000, 1000) (6000, 1000) (6000,)\n",
            "dev shape:  (2000, 1000) (2000, 1000) (2000,)\n",
            "test shape:  (2000, 1000) (2000, 1000) (2000,)\n"
          ]
        }
      ]
    },
    {
      "cell_type": "markdown",
      "source": [
        "# **Models**"
      ],
      "metadata": {
        "id": "mBZhNDCfRjzc"
      }
    },
    {
      "cell_type": "markdown",
      "source": [
        "## **Naive Bayez**"
      ],
      "metadata": {
        "id": "8SltqeUhI1HR"
      }
    },
    {
      "cell_type": "code",
      "source": [
        "from sklearn.naive_bayes import GaussianNB\n",
        "\n",
        "X_train = body_train\n",
        "X_test = body_test\n",
        "\n",
        "# Build a Gaussian Classifier\n",
        "model = GaussianNB()\n",
        "\n",
        "# Model training\n",
        "model.fit(X_train, y_train)\n",
        "\n",
        "# Predict Output\n",
        "predicted = model.predict([X_test[6]])\n",
        "\n",
        "print(\"Actual Value:\", y_test[6])\n",
        "print(\"Predicted Value:\", predicted[0])"
      ],
      "metadata": {
        "colab": {
          "base_uri": "https://localhost:8080/"
        },
        "id": "tvzR04vX-qkb",
        "outputId": "d35156fd-e53a-4d6a-dde9-801b56ba2274"
      },
      "execution_count": 139,
      "outputs": [
        {
          "output_type": "stream",
          "name": "stdout",
          "text": [
            "Actual Value: 1\n",
            "Predicted Value: 1\n"
          ]
        }
      ]
    },
    {
      "cell_type": "code",
      "source": [
        "from sklearn.metrics import (\n",
        "    accuracy_score,\n",
        "    confusion_matrix,\n",
        "    ConfusionMatrixDisplay,\n",
        "    f1_score,\n",
        ")\n",
        "\n",
        "y_pred = model.predict(X_test)\n",
        "accuray = accuracy_score(y_pred, y_test)\n",
        "f1 = f1_score(y_pred, y_test, average=\"weighted\")\n",
        "\n",
        "print(\"Accuracy:\", accuray)\n",
        "print(\"F1 Score:\", f1)"
      ],
      "metadata": {
        "colab": {
          "base_uri": "https://localhost:8080/"
        },
        "id": "VrZKfo5__q4O",
        "outputId": "2952fcec-847e-4920-933d-bc9d1607b966"
      },
      "execution_count": 140,
      "outputs": [
        {
          "output_type": "stream",
          "name": "stdout",
          "text": [
            "Accuracy: 0.562\n",
            "F1 Score: 0.5735942365972914\n"
          ]
        }
      ]
    },
    {
      "cell_type": "code",
      "source": [
        "labels = [1,2,3]\n",
        "cm = confusion_matrix(y_test, y_pred, labels=labels)\n",
        "disp = ConfusionMatrixDisplay(confusion_matrix=cm, display_labels=labels)\n",
        "disp.plot();"
      ],
      "metadata": {
        "colab": {
          "base_uri": "https://localhost:8080/",
          "height": 452
        },
        "id": "lgprw18g_7CD",
        "outputId": "612a905f-25e5-4242-fd51-46fd7696f62d"
      },
      "execution_count": 141,
      "outputs": [
        {
          "output_type": "display_data",
          "data": {
            "text/plain": [
              "<Figure size 640x480 with 2 Axes>"
            ],
            "image/png": "[encoded data removed]"
          },
          "metadata": {}
        }
      ]
    },
    {
      "cell_type": "markdown",
      "source": [
        "## **Neural Network**"
      ],
      "metadata": {
        "id": "fcofj0vVI5h5"
      }
    },
    {
      "cell_type": "code",
      "source": [
        "X_train = [headline_train, body_train]\n",
        "X_dev = [headline_dev, body_dev]\n",
        "X_test = [headline_test, body_test]\n",
        "\n",
        "\n",
        "y_trainn = to_categorical(y_train)[:, 1:4]\n",
        "y_devv = to_categorical(y_dev)[:, 1:4]\n",
        "y_testt = to_categorical(y_test)[:, 1:4]\n",
        "\n",
        "validation_data = (X_dev[1], y_devv)\n",
        "y_trainn.shape"
      ],
      "metadata": {
        "colab": {
          "base_uri": "https://localhost:8080/"
        },
        "id": "2uQCHiYUJlah",
        "outputId": "10faf17f-d158-4ab2-9824-0936a280480e"
      },
      "execution_count": 165,
      "outputs": [
        {
          "output_type": "execute_result",
          "data": {
            "text/plain": [
              "(6000, 3)"
            ]
          },
          "metadata": {},
          "execution_count": 165
        }
      ]
    },
    {
      "cell_type": "code",
      "source": [
        "# Funcionl Model\n",
        "input1 = Input(shape=np.array(X_train[0]).shape[1:])\n",
        "input2 = Input(shape=np.array(X_train[1]).shape[1:])\n",
        "\n",
        "# x1 = LSTM(128, return_sequences=True)(input1)\n",
        "# x1 = LSTM(128)(input1)\n",
        "\n",
        "# x2 = LSTM(128, return_sequences=True)(input2)\n",
        "# x2 = LSTM(128)(input2)\n",
        "\n",
        "# c = Concatenate(axis=0)([input1, input1])\n",
        "\n",
        "d = Dense(256, activation='relu')(input1)\n",
        "# d = Dense(256, activation='relu')(d)\n",
        "d = Dense(64, activation='relu')(d)\n",
        "\n",
        "output = Dense(3, activation=\"sigmoid\")(d)\n",
        "\n",
        "# Compile the Model\n",
        "model = Model(inputs=input1, outputs=output)\n",
        "model.compile(loss=\"binary_crossentropy\", optimizer=Adam(), metrics=['accuracy'])"
      ],
      "metadata": {
        "id": "BfMlzcbjI9lH"
      },
      "execution_count": 172,
      "outputs": []
    },
    {
      "cell_type": "code",
      "source": [
        "# train the model\n",
        "filepath = 'NN_model.hdf5'\n",
        "checkpoint = ModelCheckpoint(filepath=filepath, monitor='val_accuracy', verbose=0, save_best_only=True, mode='max')\n",
        "history = model.fit(X_train[1], y_trainn, validation_data=validation_data, epochs=20, batch_size=250, verbose=2, callbacks=[checkpoint]).history\n",
        "model = load_model(filepath)"
      ],
      "metadata": {
        "colab": {
          "base_uri": "https://localhost:8080/"
        },
        "id": "_yzo0x5-K4Nh",
        "outputId": "28d2461a-e87e-450b-a2db-bad03f73d58f"
      },
      "execution_count": 173,
      "outputs": [
        {
          "output_type": "stream",
          "name": "stdout",
          "text": [
            "Epoch 1/20\n",
            "24/24 - 2s - loss: 0.6471 - accuracy: 0.4735 - val_loss: 0.6167 - val_accuracy: 0.6205 - 2s/epoch - 76ms/step\n",
            "Epoch 2/20\n",
            "24/24 - 0s - loss: 0.5693 - accuracy: 0.6762 - val_loss: 0.5264 - val_accuracy: 0.6350 - 331ms/epoch - 14ms/step\n",
            "Epoch 3/20\n",
            "24/24 - 0s - loss: 0.4598 - accuracy: 0.6898 - val_loss: 0.4647 - val_accuracy: 0.6520 - 374ms/epoch - 16ms/step\n",
            "Epoch 4/20\n",
            "24/24 - 0s - loss: 0.3980 - accuracy: 0.7235 - val_loss: 0.4580 - val_accuracy: 0.6535 - 336ms/epoch - 14ms/step\n",
            "Epoch 5/20\n",
            "24/24 - 0s - loss: 0.3650 - accuracy: 0.7530 - val_loss: 0.4598 - val_accuracy: 0.6530 - 299ms/epoch - 12ms/step\n",
            "Epoch 6/20\n",
            "24/24 - 0s - loss: 0.3388 - accuracy: 0.7758 - val_loss: 0.4672 - val_accuracy: 0.6525 - 319ms/epoch - 13ms/step\n",
            "Epoch 7/20\n",
            "24/24 - 0s - loss: 0.3186 - accuracy: 0.7925 - val_loss: 0.4813 - val_accuracy: 0.6475 - 354ms/epoch - 15ms/step\n",
            "Epoch 8/20\n",
            "24/24 - 0s - loss: 0.2968 - accuracy: 0.8123 - val_loss: 0.4951 - val_accuracy: 0.6460 - 328ms/epoch - 14ms/step\n",
            "Epoch 9/20\n",
            "24/24 - 0s - loss: 0.2756 - accuracy: 0.8337 - val_loss: 0.5081 - val_accuracy: 0.6440 - 342ms/epoch - 14ms/step\n",
            "Epoch 10/20\n",
            "24/24 - 0s - loss: 0.2539 - accuracy: 0.8505 - val_loss: 0.5254 - val_accuracy: 0.6395 - 335ms/epoch - 14ms/step\n",
            "Epoch 11/20\n",
            "24/24 - 1s - loss: 0.2286 - accuracy: 0.8773 - val_loss: 0.5418 - val_accuracy: 0.6420 - 630ms/epoch - 26ms/step\n",
            "Epoch 12/20\n",
            "24/24 - 1s - loss: 0.2033 - accuracy: 0.8992 - val_loss: 0.5627 - val_accuracy: 0.6400 - 582ms/epoch - 24ms/step\n",
            "Epoch 13/20\n",
            "24/24 - 0s - loss: 0.1775 - accuracy: 0.9205 - val_loss: 0.5876 - val_accuracy: 0.6360 - 431ms/epoch - 18ms/step\n",
            "Epoch 14/20\n",
            "24/24 - 1s - loss: 0.1535 - accuracy: 0.9373 - val_loss: 0.6081 - val_accuracy: 0.6425 - 527ms/epoch - 22ms/step\n",
            "Epoch 15/20\n",
            "24/24 - 0s - loss: 0.1297 - accuracy: 0.9558 - val_loss: 0.6286 - val_accuracy: 0.6345 - 484ms/epoch - 20ms/step\n",
            "Epoch 16/20\n",
            "24/24 - 0s - loss: 0.1086 - accuracy: 0.9667 - val_loss: 0.6515 - val_accuracy: 0.6335 - 428ms/epoch - 18ms/step\n",
            "Epoch 17/20\n",
            "24/24 - 0s - loss: 0.0902 - accuracy: 0.9705 - val_loss: 0.6817 - val_accuracy: 0.6330 - 440ms/epoch - 18ms/step\n",
            "Epoch 18/20\n",
            "24/24 - 0s - loss: 0.0752 - accuracy: 0.9772 - val_loss: 0.7038 - val_accuracy: 0.6310 - 494ms/epoch - 21ms/step\n",
            "Epoch 19/20\n",
            "24/24 - 0s - loss: 0.0642 - accuracy: 0.9793 - val_loss: 0.7324 - val_accuracy: 0.6340 - 491ms/epoch - 20ms/step\n",
            "Epoch 20/20\n",
            "24/24 - 0s - loss: 0.0555 - accuracy: 0.9818 - val_loss: 0.7519 - val_accuracy: 0.6335 - 456ms/epoch - 19ms/step\n"
          ]
        }
      ]
    },
    {
      "cell_type": "markdown",
      "source": [
        "# **Helper**"
      ],
      "metadata": {
        "id": "y68XaS_ZOPpL"
      }
    },
    {
      "cell_type": "code",
      "execution_count": null,
      "metadata": {
        "colab": {
          "base_uri": "https://localhost:8080/"
        },
        "id": "RgmFgUwMvcrm",
        "outputId": "751b4329-4862-4320-a5b6-c83ba1101e0a"
      },
      "outputs": [
        {
          "name": "stdout",
          "output_type": "stream",
          "text": [
            "index of samples which their body or headline are empty:  [  1514   1632   1830 ... 952604 955484 956398]\n"
          ]
        },
        {
          "data": {
            "text/plain": [
              "(958554, 958554, 958554)"
            ]
          },
          "execution_count": 4,
          "metadata": {},
          "output_type": "execute_result"
        }
      ],
      "source": [
        "def deleteSomeIndicesFromList(a, indices):\n",
        "  a = a.copy()\n",
        "  for index in sorted(indices, reverse=True):\n",
        "    a.pop(index)\n",
        "  return a\n",
        "\n",
        "indices = [i for i, x in enumerate(review_body_encoded) if len(x)==0]\n",
        "indices = indices + [i for i, x in enumerate(review_headline_encoded) if len(x)==0]\n",
        "indices = np.unique(indices)\n",
        "\n",
        "print('index of samples which their body or headline are empty: ', indices)\n",
        "\n",
        "review_body_dropped = deleteSomeIndicesFromList(review_body_encoded, indices)\n",
        "review_headline_dropped = deleteSomeIndicesFromList(review_headline_encoded, indices)\n",
        "rev_class_dropped = deleteSomeIndicesFromList(rev_class, indices)\n",
        "\n",
        "len(review_body_dropped), len(review_headline_dropped), len(rev_class_dropped)"
      ]
    }
  ],
  "metadata": {
    "colab": {
      "collapsed_sections": [
        "5J01Zkp8TVU9",
        "F3JtGILIWdTl",
        "5yLYIIwojpyp"
      ],
      "provenance": [],
      "gpuType": "T4"
    },
    "kernelspec": {
      "display_name": "Python 3",
      "name": "python3"
    },
    "language_info": {
      "name": "python"
    },
    "accelerator": "GPU"
  },
  "nbformat": 4,
  "nbformat_minor": 0
}