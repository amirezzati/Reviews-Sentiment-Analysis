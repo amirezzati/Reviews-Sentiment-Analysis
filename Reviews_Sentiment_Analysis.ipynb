{
  "cells": [
    {
      "attachments": {},
      "cell_type": "markdown",
      "metadata": {
        "id": "5J01Zkp8TVU9"
      },
      "source": [
        "# **Libraries & Constants**"
      ]
    },
    {
      "cell_type": "code",
      "execution_count": null,
      "metadata": {
        "id": "LPUVtJnzTECQ"
      },
      "outputs": [],
      "source": [
        "import pandas as pd\n",
        "import tensorflow as tf\n",
        "import numpy as np\n",
        "from keras.models import Sequential, load_model\n",
        "from keras.layers import Dense, Input, Softmax, BatchNormalization, Dropout, Conv2D, MaxPool2D, Embedding, Reshape, Flatten, LSTM, GRU, SimpleRNN, Concatenate, concatenate, RepeatVector, TimeDistributed, Bidirectional\n",
        "# from keras.layers.merge import concatenate\n",
        "from keras.losses import CategoricalCrossentropy\n",
        "from keras.metrics import CategoricalAccuracy\n",
        "from keras.preprocessing.text import Tokenizer\n",
        "from tensorflow.keras.optimizers import RMSprop, Adam, Adamax, Nadam, SGD\n",
        "from tensorflow.keras import Model\n",
        "from tensorflow.keras.optimizers.schedules import InverseTimeDecay, ExponentialDecay\n",
        "from tensorflow.keras.utils import to_categorical\n",
        "from keras.utils.vis_utils import plot_model\n",
        "from keras.callbacks import ModelCheckpoint\n",
        "from tensorflow.keras.preprocessing.sequence import pad_sequences #from keras.preprocessing.sequence import pad_sequences\n",
        "from sklearn.feature_extraction.text import TfidfVectorizer\n",
        "from sklearn.preprocessing import LabelEncoder\n",
        "from sklearn.model_selection import train_test_split, KFold\n",
        "from sklearn import metrics\n",
        "from matplotlib import pyplot as plt\n",
        "from sklearn.model_selection import KFold\n",
        "from sklearn.metrics import (\n",
        "    accuracy_score,\n",
        "    confusion_matrix,\n",
        "    ConfusionMatrixDisplay,\n",
        "    f1_score,\n",
        "    precision_score,\n",
        "    recall_score,\n",
        "    classification_report\n",
        ")\n",
        "import seaborn as sb\n",
        "from scipy import sparse\n",
        "from scipy.sparse import csr_matrix\n",
        "import os\n",
        "import string\n",
        "from google.colab import drive\n",
        "import json\n",
        "import pickle\n",
        "\n",
        "from nltk.tokenize import WhitespaceTokenizer\n",
        "from nltk.stem.porter import PorterStemmer\n",
        "import spacy\n",
        "import nltk\n",
        "nltk.download('stopwords')\n",
        "import re\n",
        "# from transformers import AutoTokenizer,BertTokenizer,TFBertModel\n",
        "\n",
        "import copy"
      ]
    },
    {
      "attachments": {},
      "cell_type": "markdown",
      "metadata": {
        "id": "F3JtGILIWdTl"
      },
      "source": [
        "# **Load Dataset and declare paths**"
      ]
    },
    {
      "cell_type": "code",
      "execution_count": null,
      "metadata": {
        "id": "Qn1VtEjkW5Du"
      },
      "outputs": [],
      "source": [
        "drive.mount('/content/drive')\n",
        "basePath = '/content/drive/MyDrive/AI Projects/Sentiment-Analysis/'\n",
        "dataPath = basePath + 'amazon_reviews_us_Watches_v1_00.csv'"
      ]
    },
    {
      "attachments": {},
      "cell_type": "markdown",
      "metadata": {
        "id": "axVWDkIDacjR"
      },
      "source": [
        "# **Preprocessing**"
      ]
    },
    {
      "attachments": {},
      "cell_type": "markdown",
      "metadata": {
        "id": "5yLYIIwojpyp"
      },
      "source": [
        "## **Tokenization, Stemming, Removing Stop words and Punctuation**"
      ]
    },
    {
      "cell_type": "code",
      "execution_count": null,
      "metadata": {
        "colab": {
          "base_uri": "https://localhost:8080/"
        },
        "id": "q0PP0Aztwdv2",
        "outputId": "0071cbd6-7d36-41b6-9f5f-63bba05d2fad"
      },
      "outputs": [
        {
          "name": "stderr",
          "output_type": "stream",
          "text": [
            "<ipython-input-4-5118f10c515a>:1: DtypeWarning: Columns (17,18,19,20,21) have mixed types. Specify dtype option on import or set low_memory=False.\n",
            "  dataset = pd.read_csv(dataPath)\n"
          ]
        }
      ],
      "source": [
        "dataset = pd.read_csv(dataPath)"
      ]
    },
    {
      "cell_type": "code",
      "execution_count": null,
      "metadata": {
        "colab": {
          "base_uri": "https://localhost:8080/"
        },
        "id": "K_yw5Ou9_f_x",
        "outputId": "39d42b2d-57f0-4aa7-f44b-ab4d31bc3e24"
      },
      "outputs": [
        {
          "name": "stdout",
          "output_type": "stream",
          "text": [
            "['review_date', 'verified_purchase', 'helpful_votes', 'total_votes', 'vine', 'marketplace', 'customer_id', 'review_id', 'product_id', 'product_parent', 'product_title', 'product_category', 'Unnamed: 15', 'Unnamed: 16', 'Unnamed: 17', 'Unnamed: 18', 'Unnamed: 19', 'Unnamed: 20', 'Unnamed: 21']\n"
          ]
        }
      ],
      "source": [
        "useless_features = ['review_date', 'verified_purchase'] + list(dataset.columns[8:11]) + list(dataset.columns[0:7]) + list(dataset.columns[-7:])\n",
        "print(useless_features)\n",
        "\n",
        "dataset.drop(columns=useless_features, inplace=True)\n",
        "# delete rows with nan elements\n",
        "dataset = dataset.dropna()"
      ]
    },
    {
      "cell_type": "code",
      "execution_count": null,
      "metadata": {
        "colab": {
          "base_uri": "https://localhost:8080/",
          "height": 206
        },
        "id": "rlWTYJW-DwXF",
        "outputId": "1370cb0c-f85e-4de3-a799-609eebd9c181"
      },
      "outputs": [
        {
          "data": {
            "text/html": [
              "\n",
              "  <div id=\"df-95263748-921b-4f2c-9925-4cfdd00ac0f5\">\n",
              "    <div class=\"colab-df-container\">\n",
              "      <div>\n",
              "<style scoped>\n",
              "    .dataframe tbody tr th:only-of-type {\n",
              "        vertical-align: middle;\n",
              "    }\n",
              "\n",
              "    .dataframe tbody tr th {\n",
              "        vertical-align: top;\n",
              "    }\n",
              "\n",
              "    .dataframe thead th {\n",
              "        text-align: right;\n",
              "    }\n",
              "</style>\n",
              "<table border=\"1\" class=\"dataframe\">\n",
              "  <thead>\n",
              "    <tr style=\"text-align: right;\">\n",
              "      <th></th>\n",
              "      <th>star_rating</th>\n",
              "      <th>review_headline</th>\n",
              "      <th>review_body</th>\n",
              "      <th>rev_class</th>\n",
              "    </tr>\n",
              "  </thead>\n",
              "  <tbody>\n",
              "    <tr>\n",
              "      <th>0</th>\n",
              "      <td>5</td>\n",
              "      <td>Five Stars</td>\n",
              "      <td>Absolutely love this watch! Get compliments al...</td>\n",
              "      <td>1</td>\n",
              "    </tr>\n",
              "    <tr>\n",
              "      <th>1</th>\n",
              "      <td>5</td>\n",
              "      <td>I love thiswatch it keeps time wonderfully</td>\n",
              "      <td>I love this watch it keeps time wonderfully.</td>\n",
              "      <td>1</td>\n",
              "    </tr>\n",
              "    <tr>\n",
              "      <th>2</th>\n",
              "      <td>2</td>\n",
              "      <td>Two Stars</td>\n",
              "      <td>Scratches</td>\n",
              "      <td>2</td>\n",
              "    </tr>\n",
              "    <tr>\n",
              "      <th>3</th>\n",
              "      <td>5</td>\n",
              "      <td>Five Stars</td>\n",
              "      <td>It works well on me. However, I found cheaper ...</td>\n",
              "      <td>1</td>\n",
              "    </tr>\n",
              "    <tr>\n",
              "      <th>4</th>\n",
              "      <td>4</td>\n",
              "      <td>Beautiful face, but cheap sounding links</td>\n",
              "      <td>Beautiful watch face.  The band looks nice all...</td>\n",
              "      <td>1</td>\n",
              "    </tr>\n",
              "  </tbody>\n",
              "</table>\n",
              "</div>\n",
              "      <button class=\"colab-df-convert\" onclick=\"convertToInteractive('df-95263748-921b-4f2c-9925-4cfdd00ac0f5')\"\n",
              "              title=\"Convert this dataframe to an interactive table.\"\n",
              "              style=\"display:none;\">\n",
              "        \n",
              "  <svg xmlns=\"http://www.w3.org/2000/svg\" height=\"24px\"viewBox=\"0 0 24 24\"\n",
              "       width=\"24px\">\n",
              "    <path d=\"M0 0h24v24H0V0z\" fill=\"none\"/>\n",
              "    <path d=\"M18.56 5.44l.94 2.06.94-2.06 2.06-.94-2.06-.94-.94-2.06-.94 2.06-2.06.94zm-11 1L8.5 8.5l.94-2.06 2.06-.94-2.06-.94L8.5 2.5l-.94 2.06-2.06.94zm10 10l.94 2.06.94-2.06 2.06-.94-2.06-.94-.94-2.06-.94 2.06-2.06.94z\"/><path d=\"M17.41 7.96l-1.37-1.37c-.4-.4-.92-.59-1.43-.59-.52 0-1.04.2-1.43.59L10.3 9.45l-7.72 7.72c-.78.78-.78 2.05 0 2.83L4 21.41c.39.39.9.59 1.41.59.51 0 1.02-.2 1.41-.59l7.78-7.78 2.81-2.81c.8-.78.8-2.07 0-2.86zM5.41 20L4 18.59l7.72-7.72 1.47 1.35L5.41 20z\"/>\n",
              "  </svg>\n",
              "      </button>\n",
              "      \n",
              "  <style>\n",
              "    .colab-df-container {\n",
              "      display:flex;\n",
              "      flex-wrap:wrap;\n",
              "      gap: 12px;\n",
              "    }\n",
              "\n",
              "    .colab-df-convert {\n",
              "      background-color: #E8F0FE;\n",
              "      border: none;\n",
              "      border-radius: 50%;\n",
              "      cursor: pointer;\n",
              "      display: none;\n",
              "      fill: #1967D2;\n",
              "      height: 32px;\n",
              "      padding: 0 0 0 0;\n",
              "      width: 32px;\n",
              "    }\n",
              "\n",
              "    .colab-df-convert:hover {\n",
              "      background-color: #E2EBFA;\n",
              "      box-shadow: 0px 1px 2px rgba(60, 64, 67, 0.3), 0px 1px 3px 1px rgba(60, 64, 67, 0.15);\n",
              "      fill: #174EA6;\n",
              "    }\n",
              "\n",
              "    [theme=dark] .colab-df-convert {\n",
              "      background-color: #3B4455;\n",
              "      fill: #D2E3FC;\n",
              "    }\n",
              "\n",
              "    [theme=dark] .colab-df-convert:hover {\n",
              "      background-color: #434B5C;\n",
              "      box-shadow: 0px 1px 3px 1px rgba(0, 0, 0, 0.15);\n",
              "      filter: drop-shadow(0px 1px 2px rgba(0, 0, 0, 0.3));\n",
              "      fill: #FFFFFF;\n",
              "    }\n",
              "  </style>\n",
              "\n",
              "      <script>\n",
              "        const buttonEl =\n",
              "          document.querySelector('#df-95263748-921b-4f2c-9925-4cfdd00ac0f5 button.colab-df-convert');\n",
              "        buttonEl.style.display =\n",
              "          google.colab.kernel.accessAllowed ? 'block' : 'none';\n",
              "\n",
              "        async function convertToInteractive(key) {\n",
              "          const element = document.querySelector('#df-95263748-921b-4f2c-9925-4cfdd00ac0f5');\n",
              "          const dataTable =\n",
              "            await google.colab.kernel.invokeFunction('convertToInteractive',\n",
              "                                                     [key], {});\n",
              "          if (!dataTable) return;\n",
              "\n",
              "          const docLinkHtml = 'Like what you see? Visit the ' +\n",
              "            '<a target=\"_blank\" href=https://colab.research.google.com/notebooks/data_table.ipynb>data table notebook</a>'\n",
              "            + ' to learn more about interactive tables.';\n",
              "          element.innerHTML = '';\n",
              "          dataTable['output_type'] = 'display_data';\n",
              "          await google.colab.output.renderOutput(dataTable, element);\n",
              "          const docLink = document.createElement('div');\n",
              "          docLink.innerHTML = docLinkHtml;\n",
              "          element.appendChild(docLink);\n",
              "        }\n",
              "      </script>\n",
              "    </div>\n",
              "  </div>\n",
              "  "
            ],
            "text/plain": [
              "   star_rating                             review_headline  \\\n",
              "0            5                                  Five Stars   \n",
              "1            5  I love thiswatch it keeps time wonderfully   \n",
              "2            2                                   Two Stars   \n",
              "3            5                                  Five Stars   \n",
              "4            4    Beautiful face, but cheap sounding links   \n",
              "\n",
              "                                         review_body  rev_class  \n",
              "0  Absolutely love this watch! Get compliments al...          1  \n",
              "1       I love this watch it keeps time wonderfully.          1  \n",
              "2                                          Scratches          2  \n",
              "3  It works well on me. However, I found cheaper ...          1  \n",
              "4  Beautiful watch face.  The band looks nice all...          1  "
            ]
          },
          "execution_count": 6,
          "metadata": {},
          "output_type": "execute_result"
        }
      ],
      "source": [
        "review_headline = np.array(dataset['review_headline'])\n",
        "review_body = np.array(dataset['review_body'])\n",
        "star_rating = np.array(dataset['star_rating'])\n",
        "rev_class = np.empty_like(star_rating)\n",
        "\n",
        "for i  in range(len(rev_class)):\n",
        "  if star_rating[i] >= 4:\n",
        "    rev_class[i] = 1  # class1 : Pos Class\n",
        "  elif star_rating[i] <= 2:\n",
        "    rev_class[i] = 2  # class2 : Neg class\n",
        "  elif star_rating[i] == 3:\n",
        "    rev_class[i] = 3  # class3 : Neutral class\n",
        "\n",
        "dataset['rev_class'] = rev_class\n",
        "\n",
        "dataset.head()"
      ]
    },
    {
      "cell_type": "code",
      "execution_count": null,
      "metadata": {
        "colab": {
          "base_uri": "https://localhost:8080/"
        },
        "id": "YHiX0vfldDsF",
        "outputId": "3d6ebfc4-a543-46db-c0b2-7f70424a2d2d"
      },
      "outputs": [
        {
          "data": {
            "text/plain": [
              "(960082,)"
            ]
          },
          "execution_count": 7,
          "metadata": {},
          "output_type": "execute_result"
        }
      ],
      "source": [
        "rev_class.shape"
      ]
    },
    {
      "cell_type": "code",
      "execution_count": null,
      "metadata": {
        "colab": {
          "base_uri": "https://localhost:8080/"
        },
        "id": "znYf7uICQ2v3",
        "outputId": "a1f5d47e-008e-4f85-c402-853bb5370dff"
      },
      "outputs": [
        {
          "data": {
            "text/plain": [
              "array([704698, 659317,  69078, ..., 242400, 285939, 890903])"
            ]
          },
          "execution_count": 8,
          "metadata": {},
          "output_type": "execute_result"
        }
      ],
      "source": [
        "pos_indices = np.where(rev_class == 1)[0]\n",
        "neg_indices = np.where(rev_class == 2)[0]\n",
        "neut_indice = np.where(rev_class == 3)[0]\n",
        "\n",
        "np.random.seed(5)\n",
        "pos_indices = np.random.choice(pos_indices, size=3300, replace=False)\n",
        "neg_indices = np.random.choice(neg_indices, size=3300, replace=False)\n",
        "neut_indices = np.random.choice(neut_indice, size=3400, replace=False)\n",
        "\n",
        "sample_indices = np.concatenate([pos_indices, neg_indices, neut_indices], axis=0)\n",
        "sample_indices"
      ]
    },
    {
      "cell_type": "code",
      "execution_count": null,
      "metadata": {
        "colab": {
          "base_uri": "https://localhost:8080/"
        },
        "id": "EhsLsDAIkvqQ",
        "outputId": "aff5a5b0-a97b-429e-f7ef-e6fa47dd9639"
      },
      "outputs": [
        {
          "data": {
            "text/plain": [
              "((10000,), (10000,), (10000,))"
            ]
          },
          "execution_count": 9,
          "metadata": {},
          "output_type": "execute_result"
        }
      ],
      "source": [
        "review_headline_sample = np.take(review_headline, sample_indices)\n",
        "review_body_sample = np.take(review_body, sample_indices)\n",
        "rev_class_sample = np.take(rev_class, sample_indices)\n",
        "\n",
        "np.save(basePath + 'review_class.npy', rev_class)\n",
        "\n",
        "rev_class_sample.shape, review_body_sample.shape, review_headline_sample.shape"
      ]
    },
    {
      "cell_type": "code",
      "execution_count": null,
      "metadata": {
        "id": "idWTMzO6exZZ"
      },
      "outputs": [],
      "source": [
        "def w_tokenizer(text):\n",
        "  tokenizer = WhitespaceTokenizer()\n",
        "  tokenized_list = tokenizer.tokenize(text)\n",
        "  return tokenized_list\n",
        "\n",
        "def stemmer_porter(text_list):\n",
        "  porter = PorterStemmer()\n",
        "  return_list = []\n",
        "  for i in range(len(text_list)):\n",
        "      return_list.append(porter.stem(text_list[i]))\n",
        "  return(return_list)\n",
        "\n",
        "\n",
        "def remove_stopwords(text_list):\n",
        "  NLTK_stopwords = nltk.corpus.stopwords.words('english')\n",
        "  return_list = []\n",
        "  for i in range(len(text_list)):\n",
        "      if text_list[i] not in NLTK_stopwords:\n",
        "          return_list.append(text_list[i])\n",
        "  return return_list\n",
        "\n",
        "def remove_punc(text):\n",
        "    if isinstance((text), (str)):\n",
        "        text = re.sub('<[^>]*>', '', text)\n",
        "        text = re.sub('[\\W]+', '', text.lower())\n",
        "        return text\n",
        "    if isinstance((text), (list)):\n",
        "        return_list = []\n",
        "        for i in range(len(text)):\n",
        "            temp_text = re.sub('<[^>]*>', '', text[i])\n",
        "            temp_text = re.sub('[\\W]+', '', temp_text.lower())\n",
        "            temp_text = re.sub('[0-9][0-9]+', '', temp_text.lower())\n",
        "            temp_text = re.sub('\\bbr\\b', '', temp_text.lower())\n",
        "            return_list.append(temp_text)\n",
        "        return(return_list)\n",
        "    else:\n",
        "        pass\n",
        "\n",
        "def preprocess_sentence(sentence):\n",
        "  return remove_stopwords(stemmer_porter(remove_punc(w_tokenizer(sentence))))"
      ]
    },
    {
      "cell_type": "code",
      "execution_count": null,
      "metadata": {
        "id": "e9VmwzHXaeJo"
      },
      "outputs": [],
      "source": [
        "with tf.device('/GPU:0'):\n",
        "  preprocessed_review_headline = [preprocess_sentence(x) for x in review_headline]\n",
        "  preprocessed_review_body = [preprocess_sentence(x) for x in review_body]\n",
        "\n",
        "preprocessed_review_headline_length = len(preprocessed_review_headline)\n",
        "preprocessed_review_body_length = len(preprocessed_review_body)"
      ]
    },
    {
      "cell_type": "code",
      "execution_count": null,
      "metadata": {
        "colab": {
          "base_uri": "https://localhost:8080/"
        },
        "id": "njI3_e9QmqgU",
        "outputId": "a2ef1f19-7b67-433c-bf1d-f3d6bbd4ca2b"
      },
      "outputs": [
        {
          "name": "stdout",
          "output_type": "stream",
          "text": [
            "送人用的，希望会喜欢。To send people, hope you like\n",
            "['送人用的希望会喜欢to', 'send', 'peopl', 'hope', 'like']\n"
          ]
        }
      ],
      "source": [
        "print(review_headline[484344])\n",
        "print(preprocess_sentence(review_headline[484344]))"
      ]
    },
    {
      "cell_type": "code",
      "execution_count": null,
      "metadata": {
        "colab": {
          "base_uri": "https://localhost:8080/"
        },
        "id": "cSQHz7rCvmti",
        "outputId": "bd5d0a5d-e5d1-4e9c-a5d4-1cc709968b78"
      },
      "outputs": [
        {
          "name": "stderr",
          "output_type": "stream",
          "text": [
            "/usr/local/lib/python3.10/dist-packages/sklearn/feature_extraction/text.py:528: UserWarning: The parameter 'token_pattern' will not be used since 'tokenizer' is not None'\n",
            "  warnings.warn(\n"
          ]
        }
      ],
      "source": [
        "# Tfidf Vectorizer (convert tokens to vector)\n",
        "def identity_tokenizer(text):\n",
        "    return text\n",
        "\n",
        "vectorizer = TfidfVectorizer(tokenizer=identity_tokenizer, analyzer='word', stop_words=None, lowercase=False, max_features=10000) #, token_pattern='(\\d{0,2}[a-zA-Z]+\\d{0,2}[a-zA-Z]*$)'\n",
        "review_vector = vectorizer.fit_transform(preprocessed_review_headline + preprocessed_review_body)\n",
        "\n",
        "sparse.save_npz(basePath + \"review_vector_csr_matrix.npz\", review_vector)\n",
        "\n",
        "review_headline_vector = review_vector[:preprocessed_review_headline_length]\n",
        "review_body_vector = review_vector[preprocessed_review_headline_length:]"
      ]
    },
    {
      "cell_type": "code",
      "execution_count": null,
      "metadata": {
        "colab": {
          "base_uri": "https://localhost:8080/"
        },
        "id": "DOaQUha_wsXn",
        "outputId": "8f4dee19-79d1-4515-cfb4-baa710a98a60"
      },
      "outputs": [
        {
          "name": "stdout",
          "output_type": "stream",
          "text": [
            "number of features in tfidf:  10000\n"
          ]
        }
      ],
      "source": [
        "tfidf_features = vectorizer.get_feature_names_out()\n",
        "print('number of features in tfidf: ', len(tfidf_features))"
      ]
    },
    {
      "cell_type": "code",
      "execution_count": null,
      "metadata": {
        "colab": {
          "base_uri": "https://localhost:8080/"
        },
        "id": "HWbQ1nSOGrph",
        "outputId": "dd33b68d-3747-4e3b-e0c0-b9dc560acfb6"
      },
      "outputs": [
        {
          "name": "stdout",
          "output_type": "stream",
          "text": [
            "review_headline_vector shape:  (960082, 10000)\n",
            "review_body_vector shape:  (960082, 10000)\n"
          ]
        }
      ],
      "source": [
        "print('review_headline_vector shape: ', review_headline_vector.shape)\n",
        "print('review_body_vector shape: ', review_body_vector.shape)"
      ]
    },
    {
      "cell_type": "code",
      "execution_count": null,
      "metadata": {
        "colab": {
          "base_uri": "https://localhost:8080/"
        },
        "id": "4ZFkwBZcHRyp",
        "outputId": "0d0fa4e2-4bc1-49ab-f3d5-01cb12331bb8"
      },
      "outputs": [
        {
          "data": {
            "text/plain": [
              "[['five', 'star'],\n",
              " ['love', 'thiswatch', 'keep', 'time', 'wonder'],\n",
              " ['two', 'star'],\n",
              " ['five', 'star'],\n",
              " ['beauti', 'face', 'cheap', 'sound', 'link']]"
            ]
          },
          "execution_count": 16,
          "metadata": {},
          "output_type": "execute_result"
        }
      ],
      "source": [
        "preprocessed_review_headline[:5]"
      ]
    },
    {
      "cell_type": "code",
      "execution_count": null,
      "metadata": {
        "colab": {
          "base_uri": "https://localhost:8080/"
        },
        "id": "Gl7dSC7QxqXb",
        "outputId": "2fcc3f66-ea1d-4c92-c9e3-960ded4a59f2"
      },
      "outputs": [
        {
          "name": "stdout",
          "output_type": "stream",
          "text": [
            "  (0, 8168)\t0.658577715594982\n",
            "  (0, 3300)\t0.7525127191760248\n"
          ]
        }
      ],
      "source": [
        "print(review_headline_vector[0])"
      ]
    },
    {
      "attachments": {},
      "cell_type": "markdown",
      "metadata": {
        "id": "sFHMK3PpkU5l"
      },
      "source": [
        "## **Load Preprocessed Dataset**"
      ]
    },
    {
      "cell_type": "code",
      "execution_count": 33,
      "metadata": {
        "colab": {
          "base_uri": "https://localhost:8080/"
        },
        "id": "FX12E4FxxdQ6",
        "outputId": "a1d3ce7a-5b34-4eb8-cadb-cb89b3cf6c9a"
      },
      "outputs": [
        {
          "data": {
            "text/plain": [
              "((960082, 10000), (960082, 10000), (960082,))"
            ]
          },
          "execution_count": 33,
          "metadata": {},
          "output_type": "execute_result"
        }
      ],
      "source": [
        "review_vector = sparse.load_npz(basePath + \"review_vector_csr_matrix.npz\")\n",
        "\n",
        "preprocessed_review_headline_length = review_vector.shape[0]//2\n",
        "review_headline_vector = review_vector[:preprocessed_review_headline_length]\n",
        "review_body_vector = review_vector[preprocessed_review_headline_length:]\n",
        "review_class = np.load(basePath + 'review_class.npy')\n",
        "\n",
        "review_headline_vector.shape, review_body_vector.shape, review_class.shape"
      ]
    },
    {
      "attachments": {},
      "cell_type": "markdown",
      "metadata": {
        "id": "AnfEqnMLRrNW"
      },
      "source": [
        "**Splitting Dataset**"
      ]
    },
    {
      "cell_type": "code",
      "execution_count": 34,
      "metadata": {
        "colab": {
          "base_uri": "https://localhost:8080/"
        },
        "id": "A6_nNyOs3Pwp",
        "outputId": "0d01c95c-e328-43d2-879b-cecc5e7435ee"
      },
      "outputs": [
        {
          "name": "stdout",
          "output_type": "stream",
          "text": [
            "train shape:  (576049, 10000) (576049, 10000) (576049,)\n",
            "dev shape:  (192016, 10000) (192016, 10000) (192016,)\n",
            "test shape:  (192017, 10000) (192017, 10000) (192017,)\n"
          ]
        }
      ],
      "source": [
        "headline_train, headline_test, body_train, body_test, y_train, y_test = train_test_split(review_headline_vector, review_body_vector, review_class, test_size=0.40, random_state=75)\n",
        "headline_dev, headline_test, body_dev, body_test, y_dev, y_test = train_test_split(headline_test, body_test, y_test, test_size=0.50, random_state=75)\n",
        "\n",
        "print('train shape: ', headline_train.shape, body_train.shape, y_train.shape)\n",
        "print('dev shape: ', headline_dev.shape, body_dev.shape, y_dev.shape)\n",
        "print('test shape: ', headline_test.shape, body_test.shape, y_test.shape)"
      ]
    },
    {
      "cell_type": "code",
      "execution_count": 35,
      "metadata": {
        "colab": {
          "base_uri": "https://localhost:8080/"
        },
        "id": "xg3CDMSDOsvf",
        "outputId": "ec104025-d29e-4f8f-eb04-aa357a2fd109"
      },
      "outputs": [
        {
          "name": "stdout",
          "output_type": "stream",
          "text": [
            "  (0, 3931)\t0.7233393429998286\n",
            "  (0, 1646)\t0.5429914847679976\n",
            "  (0, 4998)\t0.4265447717860598\n"
          ]
        }
      ],
      "source": [
        "print(headline_train[6])"
      ]
    },
    {
      "cell_type": "code",
      "execution_count": 36,
      "metadata": {
        "id": "cfk53_sNOp7t"
      },
      "outputs": [],
      "source": [
        "# sort sparse matrix\n",
        "csr_matrix.sort_indices(headline_train)\n",
        "csr_matrix.sort_indices(headline_dev)\n",
        "csr_matrix.sort_indices(headline_test)\n",
        "csr_matrix.sort_indices(body_train)\n",
        "csr_matrix.sort_indices(body_dev)\n",
        "csr_matrix.sort_indices(body_test)"
      ]
    },
    {
      "cell_type": "code",
      "execution_count": 37,
      "metadata": {
        "colab": {
          "base_uri": "https://localhost:8080/"
        },
        "id": "KSFhJoU3QArY",
        "outputId": "0eea88cb-b49f-48bc-9e6c-be2e2b7cbbf7"
      },
      "outputs": [
        {
          "name": "stdout",
          "output_type": "stream",
          "text": [
            "  (0, 1646)\t0.5429914847679976\n",
            "  (0, 3931)\t0.7233393429998286\n",
            "  (0, 4998)\t0.4265447717860598\n"
          ]
        }
      ],
      "source": [
        "print(headline_train[6])"
      ]
    },
    {
      "attachments": {},
      "cell_type": "markdown",
      "metadata": {
        "id": "mBZhNDCfRjzc"
      },
      "source": [
        "# **Models**"
      ]
    },
    {
      "attachments": {},
      "cell_type": "markdown",
      "metadata": {
        "id": "8SltqeUhI1HR"
      },
      "source": [
        "## **Naive Bayez**"
      ]
    },
    {
      "cell_type": "code",
      "execution_count": 38,
      "metadata": {
        "colab": {
          "base_uri": "https://localhost:8080/"
        },
        "id": "tvzR04vX-qkb",
        "outputId": "6c37e4be-3967-43a3-fe15-7de837bbb911"
      },
      "outputs": [
        {
          "name": "stdout",
          "output_type": "stream",
          "text": [
            "(1, 20000)\n",
            "Actual Value: 2\n",
            "Predicted Value: 2\n"
          ]
        }
      ],
      "source": [
        "from sklearn.naive_bayes import GaussianNB, MultinomialNB\n",
        "\n",
        "# horizontal stacking\n",
        "X_train = sparse.hstack((body_train, headline_train))\n",
        "X_test = sparse.hstack((body_test, headline_test))\n",
        "\n",
        "# Build a Gaussian Classifier\n",
        "model = MultinomialNB(force_alpha=True)\n",
        "\n",
        "# Model training\n",
        "model.fit(X_train, y_train)\n",
        "\n",
        "# Predict Output\n",
        "print(X_test[6].shape)\n",
        "predicted = model.predict(X_test[6])\n",
        "\n",
        "print(\"Actual Value:\", y_test[6])\n",
        "print(\"Predicted Value:\", predicted[0])"
      ]
    },
    {
      "cell_type": "code",
      "execution_count": 39,
      "metadata": {
        "colab": {
          "base_uri": "https://localhost:8080/",
          "height": 447
        },
        "id": "VrZKfo5__q4O",
        "outputId": "b82e1532-a17c-4988-c78f-d72fb230fe72"
      },
      "outputs": [
        {
          "name": "stdout",
          "output_type": "stream",
          "text": [
            "Accuracy: 0.8815573621085633\n"
          ]
        },
        {
          "data": {
            "image/png": "[encoded data removed]",
            "text/plain": [
              "<Figure size 640x480 with 2 Axes>"
            ]
          },
          "metadata": {},
          "output_type": "display_data"
        }
      ],
      "source": [
        "y_pred = model.predict(X_test)\n",
        "accuray = accuracy_score(y_pred, y_test)\n",
        "\n",
        "report = classification_report(y_test, y_pred, target_names=['POS', 'NEG', 'NEUT'], output_dict=True)\n",
        "sb.heatmap(pd.DataFrame(report).iloc[:-1, :].T, annot=True, cmap='crest')\n",
        "\n",
        "print(\"Accuracy:\", accuray)"
      ]
    },
    {
      "cell_type": "code",
      "execution_count": 40,
      "metadata": {
        "colab": {
          "base_uri": "https://localhost:8080/",
          "height": 449
        },
        "id": "lgprw18g_7CD",
        "outputId": "4c7336ed-a813-4db0-b7c9-3ce5720fbdf1"
      },
      "outputs": [
        {
          "data": {
            "image/png": "[encoded data removed]",
            "text/plain": [
              "<Figure size 640x480 with 2 Axes>"
            ]
          },
          "metadata": {},
          "output_type": "display_data"
        }
      ],
      "source": [
        "labels = [1,2,3]\n",
        "cm = confusion_matrix(y_test, y_pred, labels=labels)\n",
        "disp = ConfusionMatrixDisplay(confusion_matrix=cm, display_labels=['POS', 'NEG', 'NEUT'])\n",
        "disp.plot();"
      ]
    },
    {
      "attachments": {},
      "cell_type": "markdown",
      "metadata": {
        "id": "fcofj0vVI5h5"
      },
      "source": [
        "## **Neural Network**"
      ]
    },
    {
      "cell_type": "code",
      "execution_count": 10,
      "metadata": {
        "colab": {
          "base_uri": "https://localhost:8080/"
        },
        "id": "2uQCHiYUJlah",
        "outputId": "18961ce1-4784-4e9a-d31a-d130bc83f445"
      },
      "outputs": [
        {
          "data": {
            "text/plain": [
              "(576049, 3)"
            ]
          },
          "execution_count": 10,
          "metadata": {},
          "output_type": "execute_result"
        }
      ],
      "source": [
        "X_train = [headline_train, body_train]\n",
        "X_dev = [headline_dev, body_dev]\n",
        "X_test = [headline_test, body_test]\n",
        "\n",
        "\n",
        "y_train_OH = to_categorical(y_train)[:, 1:4]\n",
        "y_dev_OH = to_categorical(y_dev)[:, 1:4]\n",
        "y_test_OH = to_categorical(y_test)[:, 1:4]\n",
        "\n",
        "validation_data = (X_dev, y_dev_OH)\n",
        "y_train_OH.shape"
      ]
    },
    {
      "cell_type": "code",
      "execution_count": 25,
      "metadata": {
        "id": "SyO-sHqMvTov"
      },
      "outputs": [],
      "source": [
        "def showPlots(history):\n",
        "  plt.plot(history['accuracy'],\n",
        "            label='training accuracy', marker='.', color='green')\n",
        "  plt.plot(history['val_accuracy'],\n",
        "            label='test accuracy', marker='.', color='blue')\n",
        "  plt.xlabel('Epochs')\n",
        "  plt.ylabel('Accuracy')\n",
        "  plt.legend()\n",
        "  plt.show()\n",
        "\n",
        "  plt.plot(history['loss'],\n",
        "            label='training loss', marker='.', color='green')\n",
        "  plt.plot(history['val_loss'],\n",
        "            label='test loss', marker='.', color='blue')\n",
        "  plt.xlabel('Epochs')\n",
        "  plt.ylabel('Loss')\n",
        "  plt.legend()\n",
        "  plt.show()\n",
        "\n",
        "# function for convert probablity to 0s and 1s for multiple classification\n",
        "def argmaxKeepDimensions(arr):\n",
        "  tmp = np.zeros_like(arr)\n",
        "  tmp[np.arange(len(arr)), arr.argmax(1)] = 1\n",
        "  return tmp"
      ]
    },
    {
      "cell_type": "code",
      "execution_count": 16,
      "metadata": {
        "id": "BfMlzcbjI9lH"
      },
      "outputs": [],
      "source": [
        "# Functional Model\n",
        "input1 = Input(shape=X_train[0].shape[1:], sparse=True)\n",
        "input2 = Input(shape=X_train[1].shape[1:], sparse=True)\n",
        "\n",
        "d1 = Dense(128, activation='relu')(input1)\n",
        "d1 = Dropout(0.2)(d1)\n",
        "d1 = BatchNormalization()(d1)\n",
        "\n",
        "d2 = Dense(128, activation='relu')(input2)\n",
        "d2 = Dropout(0.2)(d2)\n",
        "d2 = BatchNormalization()(d2)\n",
        "\n",
        "c = Concatenate()([d1, d2])\n",
        "\n",
        "d = Dense(64, activation='relu')(c)\n",
        "d = Dropout(0.2)(d)\n",
        "d = BatchNormalization()(d)\n",
        "\n",
        "output = Dense(3, activation=\"softmax\")(d)\n",
        "\n",
        "# Compile the Model\n",
        "model = Model(inputs=[input1, input2], outputs=output)\n",
        "model.compile(loss=\"categorical_crossentropy\", optimizer=Adam(0.001), metrics=['accuracy'])"
      ]
    },
    {
      "cell_type": "code",
      "execution_count": 17,
      "metadata": {
        "colab": {
          "base_uri": "https://localhost:8080/",
          "height": 1000
        },
        "id": "_yzo0x5-K4Nh",
        "outputId": "3be63ef4-f4b6-4af0-87cf-d654f5dc1e65"
      },
      "outputs": [
        {
          "name": "stdout",
          "output_type": "stream",
          "text": [
            "Epoch 1/10\n",
            "1126/1126 [==============================] - 133s 113ms/step - loss: 0.3180 - accuracy: 0.8845 - val_loss: 0.2700 - val_accuracy: 0.8973\n",
            "Epoch 2/10\n",
            "1126/1126 [==============================] - 46s 39ms/step - loss: 0.2432 - accuracy: 0.9077 - val_loss: 0.2580 - val_accuracy: 0.9027\n",
            "Epoch 3/10\n",
            "1126/1126 [==============================] - 37s 30ms/step - loss: 0.2118 - accuracy: 0.9187 - val_loss: 0.2658 - val_accuracy: 0.9018\n",
            "Epoch 4/10\n",
            "1126/1126 [==============================] - 31s 26ms/step - loss: 0.1799 - accuracy: 0.9313 - val_loss: 0.2849 - val_accuracy: 0.8991\n",
            "Epoch 5/10\n",
            "1126/1126 [==============================] - 30s 25ms/step - loss: 0.1515 - accuracy: 0.9423 - val_loss: 0.3148 - val_accuracy: 0.8962\n",
            "Epoch 6/10\n",
            "1126/1126 [==============================] - 28s 24ms/step - loss: 0.1284 - accuracy: 0.9514 - val_loss: 0.3443 - val_accuracy: 0.8934\n",
            "Epoch 7/10\n",
            "1126/1126 [==============================] - 25s 21ms/step - loss: 0.1124 - accuracy: 0.9578 - val_loss: 0.3674 - val_accuracy: 0.8930\n",
            "Epoch 8/10\n",
            "1126/1126 [==============================] - 26s 21ms/step - loss: 0.0997 - accuracy: 0.9630 - val_loss: 0.4087 - val_accuracy: 0.8932\n",
            "Epoch 9/10\n",
            "1126/1126 [==============================] - 27s 23ms/step - loss: 0.0896 - accuracy: 0.9668 - val_loss: 0.4227 - val_accuracy: 0.8914\n",
            "Epoch 10/10\n",
            "1126/1126 [==============================] - 25s 21ms/step - loss: 0.0827 - accuracy: 0.9697 - val_loss: 0.4472 - val_accuracy: 0.8936\n"
          ]
        },
        {
          "data": {
            "image/png": "[encoded data removed]",
            "text/plain": [
              "<Figure size 640x480 with 1 Axes>"
            ]
          },
          "metadata": {},
          "output_type": "display_data"
        },
        {
          "data": {
            "image/png": "[encoded data removed]",
            "text/plain": [
              "<Figure size 640x480 with 1 Axes>"
            ]
          },
          "metadata": {},
          "output_type": "display_data"
        }
      ],
      "source": [
        "# train the model\n",
        "filepath = basePath + 'NN_model.hdf5'\n",
        "checkpoint = ModelCheckpoint(filepath=filepath, monitor='val_accuracy', verbose=0, save_best_only=True, mode='max')\n",
        "with tf.device('/GPU:0'):\n",
        "  history = model.fit(X_train, y_train_OH, validation_data=validation_data, epochs=10, batch_size=512, verbose=1, callbacks=[checkpoint]).history\n",
        "\n",
        "showPlots(history)"
      ]
    },
    {
      "cell_type": "code",
      "execution_count": 28,
      "metadata": {
        "colab": {
          "base_uri": "https://localhost:8080/"
        },
        "id": "iXjEVX_jvhCn",
        "outputId": "18d796db-2383-48c4-802f-a1e7a622a260"
      },
      "outputs": [
        {
          "name": "stdout",
          "output_type": "stream",
          "text": [
            "6001/6001 [==============================] - 24s 4ms/step\n"
          ]
        }
      ],
      "source": [
        "filepath = basePath + 'NN_model.hdf5'\n",
        "model = load_model(filepath)\n",
        "with tf.device('/GPU:0'):\n",
        "  model.evaluate(X_test, y_test_OH, verbose=0)\n",
        "  y_pred = model.predict(X_test)"
      ]
    },
    {
      "cell_type": "code",
      "execution_count": 31,
      "metadata": {
        "colab": {
          "base_uri": "https://localhost:8080/",
          "height": 447
        },
        "id": "OQcvOdSEB9TB",
        "outputId": "380f26c5-6613-40d7-c544-b3741649dd40"
      },
      "outputs": [
        {
          "name": "stdout",
          "output_type": "stream",
          "text": [
            "Accuracy: 0.9030971216090242\n"
          ]
        },
        {
          "data": {
            "image/png": "[encoded data removed]",
            "text/plain": [
              "<Figure size 640x480 with 2 Axes>"
            ]
          },
          "metadata": {},
          "output_type": "display_data"
        }
      ],
      "source": [
        "y_pred_OH = argmaxKeepDimensions(y_pred)\n",
        "accuray = accuracy_score(y_pred_OH, y_test_OH)\n",
        "\n",
        "report = classification_report(y_test_OH, y_pred_OH, target_names=['POS', 'NEG', 'NEUT'], output_dict=True)\n",
        "sb.heatmap(pd.DataFrame(report).iloc[:-1, :].T, annot=True, cmap='crest')\n",
        "\n",
        "print(\"Accuracy:\", accuray)"
      ]
    },
    {
      "attachments": {},
      "cell_type": "markdown",
      "metadata": {
        "id": "y68XaS_ZOPpL"
      },
      "source": [
        "# **Helper**"
      ]
    },
    {
      "cell_type": "code",
      "execution_count": null,
      "metadata": {
        "colab": {
          "base_uri": "https://localhost:8080/"
        },
        "id": "RgmFgUwMvcrm",
        "outputId": "751b4329-4862-4320-a5b6-c83ba1101e0a"
      },
      "outputs": [
        {
          "name": "stdout",
          "output_type": "stream",
          "text": [
            "index of samples which their body or headline are empty:  [  1514   1632   1830 ... 952604 955484 956398]\n"
          ]
        },
        {
          "data": {
            "text/plain": [
              "(958554, 958554, 958554)"
            ]
          },
          "execution_count": 4,
          "metadata": {},
          "output_type": "execute_result"
        }
      ],
      "source": [
        "# delete samples which their body or headline is empty\n",
        "\n",
        "def deleteSomeIndicesFromList(a, indices):\n",
        "  a = a.copy()\n",
        "  for index in sorted(indices, reverse=True):\n",
        "    a.pop(index)\n",
        "  return a\n",
        "\n",
        "indices = [i for i, x in enumerate(review_body_encoded) if len(x)==0]\n",
        "indices = indices + [i for i, x in enumerate(review_headline_encoded) if len(x)==0]\n",
        "indices = np.unique(indices)\n",
        "\n",
        "print('index of samples which their body or headline are empty: ', indices)\n",
        "\n",
        "review_body_dropped = deleteSomeIndicesFromList(review_body_encoded, indices)\n",
        "review_headline_dropped = deleteSomeIndicesFromList(review_headline_encoded, indices)\n",
        "rev_class_dropped = deleteSomeIndicesFromList(rev_class, indices)\n",
        "\n",
        "len(review_body_dropped), len(review_headline_dropped), len(rev_class_dropped)"
      ]
    }
  ],
  "metadata": {
    "accelerator": "GPU",
    "colab": {
      "collapsed_sections": [
        "5J01Zkp8TVU9",
        "F3JtGILIWdTl"
      ],
      "gpuType": "T4",
      "provenance": []
    },
    "kernelspec": {
      "display_name": "Python 3",
      "name": "python3"
    },
    "language_info": {
      "name": "python"
    }
  },
  "nbformat": 4,
  "nbformat_minor": 0
}
