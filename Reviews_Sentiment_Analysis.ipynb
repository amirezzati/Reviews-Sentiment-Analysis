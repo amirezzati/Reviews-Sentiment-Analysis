{
  "cells": [
    {
      "cell_type": "markdown",
      "metadata": {
        "id": "view-in-github",
        "colab_type": "text"
      },
      "source": [
        "<a href=\"https://colab.research.google.com/github/amirezzati/Reviews-Sentiment-Analysis/blob/main/Reviews_Sentiment_Analysis.ipynb\" target=\"_parent\"><img src=\"https://colab.research.google.com/assets/colab-badge.svg\" alt=\"Open In Colab\"/></a>"
      ]
    },
    {
      "cell_type": "markdown",
      "metadata": {
        "id": "5J01Zkp8TVU9"
      },
      "source": [
        "# **Libraries & Constants**"
      ]
    },
    {
      "cell_type": "code",
      "source": [
        "!pip install -q transformers"
      ],
      "metadata": {
        "id": "Ic5ww8upQAlN",
        "colab": {
          "base_uri": "https://localhost:8080/"
        },
        "outputId": "29db9238-d245-4e5b-9f5a-48745e142da0"
      },
      "execution_count": null,
      "outputs": [
        {
          "output_type": "stream",
          "name": "stdout",
          "text": [
            "\u001b[2K     \u001b[90m━━━━━━━━━━━━━━━━━━━━━━━━━━━━━━━━━━━━━━━━\u001b[0m \u001b[32m7.2/7.2 MB\u001b[0m \u001b[31m98.9 MB/s\u001b[0m eta \u001b[36m0:00:00\u001b[0m\n",
            "\u001b[2K     \u001b[90m━━━━━━━━━━━━━━━━━━━━━━━━━━━━━━━━━━━━━━\u001b[0m \u001b[32m236.8/236.8 kB\u001b[0m \u001b[31m27.5 MB/s\u001b[0m eta \u001b[36m0:00:00\u001b[0m\n",
            "\u001b[2K     \u001b[90m━━━━━━━━━━━━━━━━━━━━━━━━━━━━━━━━━━━━━━━━\u001b[0m \u001b[32m7.8/7.8 MB\u001b[0m \u001b[31m103.8 MB/s\u001b[0m eta \u001b[36m0:00:00\u001b[0m\n",
            "\u001b[2K     \u001b[90m━━━━━━━━━━━━━━━━━━━━━━━━━━━━━━━━━━━━━━━━\u001b[0m \u001b[32m1.3/1.3 MB\u001b[0m \u001b[31m78.7 MB/s\u001b[0m eta \u001b[36m0:00:00\u001b[0m\n",
            "\u001b[?25h"
          ]
        }
      ]
    },
    {
      "cell_type": "code",
      "execution_count": null,
      "metadata": {
        "id": "LPUVtJnzTECQ",
        "colab": {
          "base_uri": "https://localhost:8080/"
        },
        "outputId": "d6b6125d-85c2-4c68-d3e2-3bf0cf0eb819"
      },
      "outputs": [
        {
          "output_type": "stream",
          "name": "stderr",
          "text": [
            "[nltk_data] Downloading package stopwords to /root/nltk_data...\n",
            "[nltk_data]   Unzipping corpora/stopwords.zip.\n"
          ]
        }
      ],
      "source": [
        "import pandas as pd\n",
        "import tensorflow as tf\n",
        "import numpy as np\n",
        "from keras.models import Sequential, load_model\n",
        "from keras.layers import Dense, Input, Softmax, BatchNormalization, Dropout, Conv2D, MaxPool2D, Embedding, Reshape, Flatten, LSTM, GRU, SimpleRNN, Concatenate, concatenate, RepeatVector, TimeDistributed, Bidirectional\n",
        "from keras.losses import CategoricalCrossentropy\n",
        "from keras.metrics import CategoricalAccuracy\n",
        "from keras.preprocessing.text import Tokenizer\n",
        "from tensorflow.keras.optimizers import RMSprop, Adam, Adamax, Nadam, SGD\n",
        "from tensorflow.keras import Model\n",
        "from tensorflow.keras.optimizers.schedules import InverseTimeDecay, ExponentialDecay\n",
        "from tensorflow.keras.utils import to_categorical\n",
        "from keras.utils.vis_utils import plot_model\n",
        "from keras.callbacks import ModelCheckpoint\n",
        "from tensorflow.keras.preprocessing.sequence import pad_sequences #from keras.preprocessing.sequence import pad_sequences\n",
        "from sklearn.feature_extraction.text import TfidfVectorizer\n",
        "from sklearn.preprocessing import LabelEncoder\n",
        "from sklearn.model_selection import train_test_split, KFold\n",
        "from sklearn import metrics\n",
        "from matplotlib import pyplot as plt\n",
        "from sklearn.model_selection import KFold\n",
        "from sklearn.metrics import (\n",
        "    accuracy_score,\n",
        "    confusion_matrix,\n",
        "    ConfusionMatrixDisplay,\n",
        "    f1_score,\n",
        "    precision_score,\n",
        "    recall_score,\n",
        "    classification_report\n",
        ")\n",
        "import seaborn as sb\n",
        "from scipy import sparse\n",
        "from scipy.sparse import csr_matrix\n",
        "import os\n",
        "import string\n",
        "from google.colab import drive\n",
        "import json\n",
        "import pickle\n",
        "\n",
        "from nltk.tokenize import WhitespaceTokenizer\n",
        "from nltk.stem.porter import PorterStemmer\n",
        "import spacy\n",
        "import nltk\n",
        "nltk.download('stopwords')\n",
        "import re\n",
        "# from transformers import AutoTokenizer, BertTokenizer, TFBertModel\n",
        "\n",
        "import copy"
      ]
    },
    {
      "cell_type": "markdown",
      "metadata": {
        "id": "F3JtGILIWdTl"
      },
      "source": [
        "# **Load Dataset and declare paths**"
      ]
    },
    {
      "cell_type": "code",
      "execution_count": null,
      "metadata": {
        "id": "Qn1VtEjkW5Du",
        "colab": {
          "base_uri": "https://localhost:8080/"
        },
        "outputId": "e6a5c0cc-967d-4fa5-ae4e-1a92cf6557e2"
      },
      "outputs": [
        {
          "output_type": "stream",
          "name": "stdout",
          "text": [
            "Mounted at /content/drive\n"
          ]
        }
      ],
      "source": [
        "drive.mount('/content/drive')\n",
        "basePath = '/content/drive/MyDrive/AI Projects/Sentiment-Analysis/'\n",
        "dataPath = basePath + 'amazon_reviews_us_Watches_v1_00.csv'"
      ]
    },
    {
      "cell_type": "markdown",
      "metadata": {
        "id": "axVWDkIDacjR"
      },
      "source": [
        "# **Preprocessing**"
      ]
    },
    {
      "cell_type": "markdown",
      "metadata": {
        "id": "5yLYIIwojpyp"
      },
      "source": [
        "## **Tokenization, Stemming, Removing Stop words and Punctuation**"
      ]
    },
    {
      "cell_type": "code",
      "source": [
        "dataset = pd.read_csv(dataPath)"
      ],
      "metadata": {
        "colab": {
          "base_uri": "https://localhost:8080/"
        },
        "id": "q0PP0Aztwdv2",
        "outputId": "cd8efee9-90ce-4d76-e20b-4996c16852af"
      },
      "execution_count": null,
      "outputs": [
        {
          "output_type": "stream",
          "name": "stderr",
          "text": [
            "<ipython-input-4-5118f10c515a>:1: DtypeWarning: Columns (17,18,19,20,21) have mixed types. Specify dtype option on import or set low_memory=False.\n",
            "  dataset = pd.read_csv(dataPath)\n"
          ]
        }
      ]
    },
    {
      "cell_type": "code",
      "execution_count": null,
      "metadata": {
        "colab": {
          "base_uri": "https://localhost:8080/"
        },
        "id": "K_yw5Ou9_f_x",
        "outputId": "88080f9b-8492-47a8-db10-f17687911bd6"
      },
      "outputs": [
        {
          "output_type": "stream",
          "name": "stdout",
          "text": [
            "['review_date', 'verified_purchase', 'helpful_votes', 'total_votes', 'vine', 'marketplace', 'customer_id', 'review_id', 'product_id', 'product_parent', 'product_title', 'product_category', 'Unnamed: 15', 'Unnamed: 16', 'Unnamed: 17', 'Unnamed: 18', 'Unnamed: 19', 'Unnamed: 20', 'Unnamed: 21']\n"
          ]
        }
      ],
      "source": [
        "useless_features = ['review_date', 'verified_purchase'] + list(dataset.columns[8:11]) + list(dataset.columns[0:7]) + list(dataset.columns[-7:])\n",
        "print(useless_features)\n",
        "\n",
        "dataset.drop(columns=useless_features, inplace=True)\n",
        "# delete rows with nan elements\n",
        "dataset = dataset.dropna()"
      ]
    },
    {
      "cell_type": "code",
      "execution_count": null,
      "metadata": {
        "colab": {
          "base_uri": "https://localhost:8080/",
          "height": 206
        },
        "id": "rlWTYJW-DwXF",
        "outputId": "ac307d0a-3989-4142-bd87-8a864cac9554"
      },
      "outputs": [
        {
          "output_type": "execute_result",
          "data": {
            "text/plain": [
              "   star_rating                             review_headline  \\\n",
              "0            5                                  Five Stars   \n",
              "1            5  I love thiswatch it keeps time wonderfully   \n",
              "2            2                                   Two Stars   \n",
              "3            5                                  Five Stars   \n",
              "4            4    Beautiful face, but cheap sounding links   \n",
              "\n",
              "                                         review_body  rev_class  \n",
              "0  Absolutely love this watch! Get compliments al...          1  \n",
              "1       I love this watch it keeps time wonderfully.          1  \n",
              "2                                          Scratches          2  \n",
              "3  It works well on me. However, I found cheaper ...          1  \n",
              "4  Beautiful watch face.  The band looks nice all...          1  "
            ],
            "text/html": [
              "\n",
              "  <div id=\"df-60b338d7-d502-411a-b770-4f9fc73c83b7\">\n",
              "    <div class=\"colab-df-container\">\n",
              "      <div>\n",
              "<style scoped>\n",
              "    .dataframe tbody tr th:only-of-type {\n",
              "        vertical-align: middle;\n",
              "    }\n",
              "\n",
              "    .dataframe tbody tr th {\n",
              "        vertical-align: top;\n",
              "    }\n",
              "\n",
              "    .dataframe thead th {\n",
              "        text-align: right;\n",
              "    }\n",
              "</style>\n",
              "<table border=\"1\" class=\"dataframe\">\n",
              "  <thead>\n",
              "    <tr style=\"text-align: right;\">\n",
              "      <th></th>\n",
              "      <th>star_rating</th>\n",
              "      <th>review_headline</th>\n",
              "      <th>review_body</th>\n",
              "      <th>rev_class</th>\n",
              "    </tr>\n",
              "  </thead>\n",
              "  <tbody>\n",
              "    <tr>\n",
              "      <th>0</th>\n",
              "      <td>5</td>\n",
              "      <td>Five Stars</td>\n",
              "      <td>Absolutely love this watch! Get compliments al...</td>\n",
              "      <td>1</td>\n",
              "    </tr>\n",
              "    <tr>\n",
              "      <th>1</th>\n",
              "      <td>5</td>\n",
              "      <td>I love thiswatch it keeps time wonderfully</td>\n",
              "      <td>I love this watch it keeps time wonderfully.</td>\n",
              "      <td>1</td>\n",
              "    </tr>\n",
              "    <tr>\n",
              "      <th>2</th>\n",
              "      <td>2</td>\n",
              "      <td>Two Stars</td>\n",
              "      <td>Scratches</td>\n",
              "      <td>2</td>\n",
              "    </tr>\n",
              "    <tr>\n",
              "      <th>3</th>\n",
              "      <td>5</td>\n",
              "      <td>Five Stars</td>\n",
              "      <td>It works well on me. However, I found cheaper ...</td>\n",
              "      <td>1</td>\n",
              "    </tr>\n",
              "    <tr>\n",
              "      <th>4</th>\n",
              "      <td>4</td>\n",
              "      <td>Beautiful face, but cheap sounding links</td>\n",
              "      <td>Beautiful watch face.  The band looks nice all...</td>\n",
              "      <td>1</td>\n",
              "    </tr>\n",
              "  </tbody>\n",
              "</table>\n",
              "</div>\n",
              "      <button class=\"colab-df-convert\" onclick=\"convertToInteractive('df-60b338d7-d502-411a-b770-4f9fc73c83b7')\"\n",
              "              title=\"Convert this dataframe to an interactive table.\"\n",
              "              style=\"display:none;\">\n",
              "        \n",
              "  <svg xmlns=\"http://www.w3.org/2000/svg\" height=\"24px\"viewBox=\"0 0 24 24\"\n",
              "       width=\"24px\">\n",
              "    <path d=\"M0 0h24v24H0V0z\" fill=\"none\"/>\n",
              "    <path d=\"M18.56 5.44l.94 2.06.94-2.06 2.06-.94-2.06-.94-.94-2.06-.94 2.06-2.06.94zm-11 1L8.5 8.5l.94-2.06 2.06-.94-2.06-.94L8.5 2.5l-.94 2.06-2.06.94zm10 10l.94 2.06.94-2.06 2.06-.94-2.06-.94-.94-2.06-.94 2.06-2.06.94z\"/><path d=\"M17.41 7.96l-1.37-1.37c-.4-.4-.92-.59-1.43-.59-.52 0-1.04.2-1.43.59L10.3 9.45l-7.72 7.72c-.78.78-.78 2.05 0 2.83L4 21.41c.39.39.9.59 1.41.59.51 0 1.02-.2 1.41-.59l7.78-7.78 2.81-2.81c.8-.78.8-2.07 0-2.86zM5.41 20L4 18.59l7.72-7.72 1.47 1.35L5.41 20z\"/>\n",
              "  </svg>\n",
              "      </button>\n",
              "      \n",
              "  <style>\n",
              "    .colab-df-container {\n",
              "      display:flex;\n",
              "      flex-wrap:wrap;\n",
              "      gap: 12px;\n",
              "    }\n",
              "\n",
              "    .colab-df-convert {\n",
              "      background-color: #E8F0FE;\n",
              "      border: none;\n",
              "      border-radius: 50%;\n",
              "      cursor: pointer;\n",
              "      display: none;\n",
              "      fill: #1967D2;\n",
              "      height: 32px;\n",
              "      padding: 0 0 0 0;\n",
              "      width: 32px;\n",
              "    }\n",
              "\n",
              "    .colab-df-convert:hover {\n",
              "      background-color: #E2EBFA;\n",
              "      box-shadow: 0px 1px 2px rgba(60, 64, 67, 0.3), 0px 1px 3px 1px rgba(60, 64, 67, 0.15);\n",
              "      fill: #174EA6;\n",
              "    }\n",
              "\n",
              "    [theme=dark] .colab-df-convert {\n",
              "      background-color: #3B4455;\n",
              "      fill: #D2E3FC;\n",
              "    }\n",
              "\n",
              "    [theme=dark] .colab-df-convert:hover {\n",
              "      background-color: #434B5C;\n",
              "      box-shadow: 0px 1px 3px 1px rgba(0, 0, 0, 0.15);\n",
              "      filter: drop-shadow(0px 1px 2px rgba(0, 0, 0, 0.3));\n",
              "      fill: #FFFFFF;\n",
              "    }\n",
              "  </style>\n",
              "\n",
              "      <script>\n",
              "        const buttonEl =\n",
              "          document.querySelector('#df-60b338d7-d502-411a-b770-4f9fc73c83b7 button.colab-df-convert');\n",
              "        buttonEl.style.display =\n",
              "          google.colab.kernel.accessAllowed ? 'block' : 'none';\n",
              "\n",
              "        async function convertToInteractive(key) {\n",
              "          const element = document.querySelector('#df-60b338d7-d502-411a-b770-4f9fc73c83b7');\n",
              "          const dataTable =\n",
              "            await google.colab.kernel.invokeFunction('convertToInteractive',\n",
              "                                                     [key], {});\n",
              "          if (!dataTable) return;\n",
              "\n",
              "          const docLinkHtml = 'Like what you see? Visit the ' +\n",
              "            '<a target=\"_blank\" href=https://colab.research.google.com/notebooks/data_table.ipynb>data table notebook</a>'\n",
              "            + ' to learn more about interactive tables.';\n",
              "          element.innerHTML = '';\n",
              "          dataTable['output_type'] = 'display_data';\n",
              "          await google.colab.output.renderOutput(dataTable, element);\n",
              "          const docLink = document.createElement('div');\n",
              "          docLink.innerHTML = docLinkHtml;\n",
              "          element.appendChild(docLink);\n",
              "        }\n",
              "      </script>\n",
              "    </div>\n",
              "  </div>\n",
              "  "
            ]
          },
          "metadata": {},
          "execution_count": 6
        }
      ],
      "source": [
        "review_headline = np.array(dataset['review_headline'])\n",
        "review_body = np.array(dataset['review_body'])\n",
        "star_rating = np.array(dataset['star_rating'])\n",
        "rev_class = np.empty_like(star_rating)\n",
        "\n",
        "for i  in range(len(rev_class)):\n",
        "  if star_rating[i] >= 4:\n",
        "    rev_class[i] = 1  # class1 : Pos Class\n",
        "  elif star_rating[i] <= 2:\n",
        "    rev_class[i] = 2  # class2 : Neg class\n",
        "  elif star_rating[i] == 3:\n",
        "    rev_class[i] = 3  # class3 : Neutral class\n",
        "\n",
        "dataset['rev_class'] = rev_class\n",
        "\n",
        "dataset.head()"
      ]
    },
    {
      "cell_type": "code",
      "execution_count": null,
      "metadata": {
        "colab": {
          "base_uri": "https://localhost:8080/"
        },
        "id": "YHiX0vfldDsF",
        "outputId": "35a6984f-720a-4bd0-b784-7bbe2ac22e8d"
      },
      "outputs": [
        {
          "output_type": "execute_result",
          "data": {
            "text/plain": [
              "(960082,)"
            ]
          },
          "metadata": {},
          "execution_count": 7
        }
      ],
      "source": [
        "rev_class.shape"
      ]
    },
    {
      "cell_type": "code",
      "execution_count": null,
      "metadata": {
        "id": "idWTMzO6exZZ"
      },
      "outputs": [],
      "source": [
        "def w_tokenizer(text):\n",
        "  tokenizer = WhitespaceTokenizer()\n",
        "  tokenized_list = tokenizer.tokenize(text)\n",
        "  return tokenized_list\n",
        "\n",
        "def stemmer_porter(text_list):\n",
        "  porter = PorterStemmer()\n",
        "  return_list = []\n",
        "  for i in range(len(text_list)):\n",
        "      return_list.append(porter.stem(text_list[i]))\n",
        "  return(return_list)\n",
        "\n",
        "\n",
        "def remove_stopwords(text_list):\n",
        "  NLTK_stopwords = nltk.corpus.stopwords.words('english')\n",
        "  return_list = []\n",
        "  for i in range(len(text_list)):\n",
        "      if text_list[i] not in NLTK_stopwords:\n",
        "          return_list.append(text_list[i])\n",
        "  return return_list\n",
        "\n",
        "def remove_punc(text):\n",
        "    if isinstance((text), (str)):\n",
        "        text = re.sub('<[^>]*>', '', text)\n",
        "        text = re.sub('[\\W]+', '', text.lower())\n",
        "        return text\n",
        "    if isinstance((text), (list)):\n",
        "        return_list = []\n",
        "        for i in range(len(text)):\n",
        "            temp_text = re.sub('<[^>]*>', '', text[i])\n",
        "            temp_text = re.sub('[\\W]+', '', temp_text.lower())\n",
        "            temp_text = re.sub('[0-9][0-9]+', '', temp_text.lower())\n",
        "            temp_text = re.sub('\\bbr\\b', '', temp_text.lower())\n",
        "            return_list.append(temp_text)\n",
        "        return(return_list)\n",
        "    else:\n",
        "        pass\n",
        "\n",
        "def preprocess_sentence(sentence):\n",
        "  return remove_stopwords(stemmer_porter(remove_punc(w_tokenizer(sentence))))"
      ]
    },
    {
      "cell_type": "code",
      "execution_count": null,
      "metadata": {
        "id": "e9VmwzHXaeJo"
      },
      "outputs": [],
      "source": [
        "with tf.device('/GPU:0'):\n",
        "  preprocessed_review_headline = [preprocess_sentence(x) for x in review_headline]\n",
        "  preprocessed_review_body = [preprocess_sentence(x) for x in review_body]\n",
        "\n",
        "preprocessed_review_headline_length = len(preprocessed_review_headline)\n",
        "preprocessed_review_body_length = len(preprocessed_review_body)"
      ]
    },
    {
      "cell_type": "code",
      "execution_count": null,
      "metadata": {
        "id": "njI3_e9QmqgU"
      },
      "outputs": [],
      "source": [
        "print(review_headline[484344])\n",
        "print(preprocess_sentence(review_headline[484344]))"
      ]
    },
    {
      "cell_type": "code",
      "execution_count": null,
      "metadata": {
        "id": "cSQHz7rCvmti"
      },
      "outputs": [],
      "source": [
        "# Tfidf Vectorizer (convert tokens to vector)\n",
        "def identity_tokenizer(text):\n",
        "    return text\n",
        "\n",
        "vectorizer = TfidfVectorizer(tokenizer=identity_tokenizer, analyzer='word', stop_words=None, lowercase=False, max_features=10000) #, token_pattern='(\\d{0,2}[a-zA-Z]+\\d{0,2}[a-zA-Z]*$)'\n",
        "review_vector = vectorizer.fit_transform(preprocessed_review_headline + preprocessed_review_body)\n",
        "\n",
        "sparse.save_npz(basePath + \"review_vector_csr_matrix.npz\", review_vector)\n",
        "\n",
        "review_headline_vector = review_vector[:preprocessed_review_headline_length]\n",
        "review_body_vector = review_vector[preprocessed_review_headline_length:]"
      ]
    },
    {
      "cell_type": "code",
      "execution_count": null,
      "metadata": {
        "id": "DOaQUha_wsXn"
      },
      "outputs": [],
      "source": [
        "tfidf_features = vectorizer.get_feature_names_out()\n",
        "print('number of features in tfidf: ', len(tfidf_features))"
      ]
    },
    {
      "cell_type": "code",
      "source": [
        "print('review_headline_vector shape: ', review_headline_vector.shape)\n",
        "print('review_body_vector shape: ', review_body_vector.shape)"
      ],
      "metadata": {
        "id": "HWbQ1nSOGrph"
      },
      "execution_count": null,
      "outputs": []
    },
    {
      "cell_type": "code",
      "source": [
        "preprocessed_review_headline[:5]"
      ],
      "metadata": {
        "id": "4ZFkwBZcHRyp"
      },
      "execution_count": null,
      "outputs": []
    },
    {
      "cell_type": "code",
      "execution_count": null,
      "metadata": {
        "id": "Gl7dSC7QxqXb"
      },
      "outputs": [],
      "source": [
        "print(review_headline_vector[0])"
      ]
    },
    {
      "cell_type": "markdown",
      "metadata": {
        "id": "sFHMK3PpkU5l"
      },
      "source": [
        "\n",
        "## **Load Preprocessed Dataset**"
      ]
    },
    {
      "cell_type": "code",
      "source": [
        "review_vector = sparse.load_npz(basePath + \"review_vector_csr_matrix.npz\")\n",
        "\n",
        "preprocessed_review_headline_length = review_vector.shape[0]//2\n",
        "review_headline_vector = review_vector[:preprocessed_review_headline_length]\n",
        "review_body_vector = review_vector[preprocessed_review_headline_length:]\n",
        "review_class = np.load(basePath + 'review_class.npy')\n",
        "\n",
        "review_headline_vector.shape, review_body_vector.shape, review_class.shape"
      ],
      "metadata": {
        "id": "FX12E4FxxdQ6",
        "colab": {
          "base_uri": "https://localhost:8080/"
        },
        "outputId": "adea1c37-73c5-46a4-c816-1084d624b0ed"
      },
      "execution_count": null,
      "outputs": [
        {
          "output_type": "execute_result",
          "data": {
            "text/plain": [
              "((960082, 10000), (960082, 10000), (960082,))"
            ]
          },
          "metadata": {},
          "execution_count": 10
        }
      ]
    },
    {
      "cell_type": "markdown",
      "source": [
        "**Splitting Dataset**"
      ],
      "metadata": {
        "id": "AnfEqnMLRrNW"
      }
    },
    {
      "cell_type": "code",
      "source": [
        "headline_train, headline_test, body_train, body_test, y_train, y_test = train_test_split(review_headline_vector, review_body_vector, review_class, test_size=0.40, random_state=75)\n",
        "headline_dev, headline_test, body_dev, body_test, y_dev, y_test = train_test_split(headline_test, body_test, y_test, test_size=0.50, random_state=75)\n",
        "\n",
        "print('train shape: ', headline_train.shape, body_train.shape, y_train.shape)\n",
        "print('dev shape: ', headline_dev.shape, body_dev.shape, y_dev.shape)\n",
        "print('test shape: ', headline_test.shape, body_test.shape, y_test.shape)"
      ],
      "metadata": {
        "colab": {
          "base_uri": "https://localhost:8080/"
        },
        "id": "A6_nNyOs3Pwp",
        "outputId": "53a39c43-8d5d-484d-edcb-fefc8ed3b72d"
      },
      "execution_count": null,
      "outputs": [
        {
          "output_type": "stream",
          "name": "stdout",
          "text": [
            "train shape:  (576049, 10000) (576049, 10000) (576049,)\n",
            "dev shape:  (192016, 10000) (192016, 10000) (192016,)\n",
            "test shape:  (192017, 10000) (192017, 10000) (192017,)\n"
          ]
        }
      ]
    },
    {
      "cell_type": "code",
      "source": [
        "print(headline_train[6])"
      ],
      "metadata": {
        "colab": {
          "base_uri": "https://localhost:8080/"
        },
        "id": "xg3CDMSDOsvf",
        "outputId": "94dbcffe-82e9-47e9-9d55-5b86029125d9"
      },
      "execution_count": null,
      "outputs": [
        {
          "output_type": "stream",
          "name": "stdout",
          "text": [
            "  (0, 3931)\t0.7233393429998286\n",
            "  (0, 1646)\t0.5429914847679976\n",
            "  (0, 4998)\t0.4265447717860598\n"
          ]
        }
      ]
    },
    {
      "cell_type": "code",
      "source": [
        "# sort sparse matrix\n",
        "csr_matrix.sort_indices(headline_train)\n",
        "csr_matrix.sort_indices(headline_dev)\n",
        "csr_matrix.sort_indices(headline_test)\n",
        "csr_matrix.sort_indices(body_train)\n",
        "csr_matrix.sort_indices(body_dev)\n",
        "csr_matrix.sort_indices(body_test)"
      ],
      "metadata": {
        "id": "cfk53_sNOp7t"
      },
      "execution_count": null,
      "outputs": []
    },
    {
      "cell_type": "code",
      "source": [
        "print(headline_train[6])"
      ],
      "metadata": {
        "colab": {
          "base_uri": "https://localhost:8080/"
        },
        "id": "KSFhJoU3QArY",
        "outputId": "326018ab-bb62-4721-8a77-6d6fe7c97674"
      },
      "execution_count": null,
      "outputs": [
        {
          "output_type": "stream",
          "name": "stdout",
          "text": [
            "  (0, 1646)\t0.5429914847679976\n",
            "  (0, 3931)\t0.7233393429998286\n",
            "  (0, 4998)\t0.4265447717860598\n"
          ]
        }
      ]
    },
    {
      "cell_type": "markdown",
      "source": [
        "# **Models**"
      ],
      "metadata": {
        "id": "mBZhNDCfRjzc"
      }
    },
    {
      "cell_type": "markdown",
      "source": [
        "## **Naive Bayez**"
      ],
      "metadata": {
        "id": "8SltqeUhI1HR"
      }
    },
    {
      "cell_type": "code",
      "source": [
        "from sklearn.naive_bayes import GaussianNB, MultinomialNB\n",
        "\n",
        "# horizontal stacking\n",
        "X_train = sparse.hstack((body_train, headline_train))\n",
        "X_test = sparse.hstack((body_test, headline_test))\n",
        "\n",
        "# Build a Gaussian Classifier\n",
        "model = MultinomialNB(force_alpha=True)\n",
        "\n",
        "# Model training\n",
        "model.fit(X_train, y_train)\n",
        "\n",
        "# Predict Output\n",
        "print(X_test[6].shape)\n",
        "predicted = model.predict(X_test[6])\n",
        "\n",
        "print(\"Actual Value:\", y_test[6])\n",
        "print(\"Predicted Value:\", predicted[0])"
      ],
      "metadata": {
        "colab": {
          "base_uri": "https://localhost:8080/"
        },
        "id": "tvzR04vX-qkb",
        "outputId": "6c37e4be-3967-43a3-fe15-7de837bbb911"
      },
      "execution_count": null,
      "outputs": [
        {
          "output_type": "stream",
          "name": "stdout",
          "text": [
            "(1, 20000)\n",
            "Actual Value: 2\n",
            "Predicted Value: 2\n"
          ]
        }
      ]
    },
    {
      "cell_type": "code",
      "source": [
        "y_pred = model.predict(X_test)\n",
        "accuray = accuracy_score(y_pred, y_test)\n",
        "\n",
        "report = classification_report(y_test, y_pred, target_names=['POS', 'NEG', 'NEUT'], output_dict=True)\n",
        "sb.heatmap(pd.DataFrame(report).iloc[:-1, :].T, annot=True, cmap='crest')\n",
        "\n",
        "print(\"Accuracy:\", accuray)"
      ],
      "metadata": {
        "colab": {
          "base_uri": "https://localhost:8080/",
          "height": 447
        },
        "id": "VrZKfo5__q4O",
        "outputId": "b82e1532-a17c-4988-c78f-d72fb230fe72"
      },
      "execution_count": null,
      "outputs": [
        {
          "output_type": "stream",
          "name": "stdout",
          "text": [
            "Accuracy: 0.8815573621085633\n"
          ]
        },
        {
          "output_type": "display_data",
          "data": {
            "text/plain": [
              "<Figure size 640x480 with 2 Axes>"
            ],
            "image/png": "[encoded data removed]"
          },
          "metadata": {}
        }
      ]
    },
    {
      "cell_type": "code",
      "source": [
        "labels = [1,2,3]\n",
        "cm = confusion_matrix(y_test, y_pred, labels=labels)\n",
        "disp = ConfusionMatrixDisplay(confusion_matrix=cm, display_labels=['POS', 'NEG', 'NEUT'])\n",
        "disp.plot();"
      ],
      "metadata": {
        "colab": {
          "base_uri": "https://localhost:8080/",
          "height": 449
        },
        "id": "lgprw18g_7CD",
        "outputId": "4c7336ed-a813-4db0-b7c9-3ce5720fbdf1"
      },
      "execution_count": null,
      "outputs": [
        {
          "output_type": "display_data",
          "data": {
            "text/plain": [
              "<Figure size 640x480 with 2 Axes>"
            ],
            "image/png": "[encoded data removed]"
          },
          "metadata": {}
        }
      ]
    },
    {
      "cell_type": "markdown",
      "source": [
        "## **Neural Network**"
      ],
      "metadata": {
        "id": "fcofj0vVI5h5"
      }
    },
    {
      "cell_type": "code",
      "source": [
        "X_train = [headline_train, body_train]\n",
        "X_dev = [headline_dev, body_dev]\n",
        "X_test = [headline_test, body_test]\n",
        "\n",
        "\n",
        "y_train_OH = to_categorical(y_train)[:, 1:4]\n",
        "y_dev_OH = to_categorical(y_dev)[:, 1:4]\n",
        "y_test_OH = to_categorical(y_test)[:, 1:4]\n",
        "\n",
        "validation_data = (X_dev, y_dev_OH)\n",
        "y_train_OH.shape"
      ],
      "metadata": {
        "colab": {
          "base_uri": "https://localhost:8080/"
        },
        "id": "2uQCHiYUJlah",
        "outputId": "18961ce1-4784-4e9a-d31a-d130bc83f445"
      },
      "execution_count": null,
      "outputs": [
        {
          "output_type": "execute_result",
          "data": {
            "text/plain": [
              "(576049, 3)"
            ]
          },
          "metadata": {},
          "execution_count": 10
        }
      ]
    },
    {
      "cell_type": "code",
      "source": [
        "def showPlots(history):\n",
        "  plt.plot(history['accuracy'],\n",
        "            label='training accuracy', marker='.', color='green')\n",
        "  plt.plot(history['val_accuracy'],\n",
        "            label='test accuracy', marker='.', color='blue')\n",
        "  plt.xlabel('Epochs')\n",
        "  plt.ylabel('Accuracy')\n",
        "  plt.legend()\n",
        "  plt.show()\n",
        "\n",
        "  plt.plot(history['loss'],\n",
        "            label='training loss', marker='.', color='green')\n",
        "  plt.plot(history['val_loss'],\n",
        "            label='test loss', marker='.', color='blue')\n",
        "  plt.xlabel('Epochs')\n",
        "  plt.ylabel('Loss')\n",
        "  plt.legend()\n",
        "  plt.show()\n",
        "\n",
        "# function for convert probablity to 0s and 1s for multiple classification\n",
        "def argmaxKeepDimensions(arr):\n",
        "  tmp = np.zeros_like(arr)\n",
        "  tmp[np.arange(len(arr)), arr.argmax(1)] = 1\n",
        "  return tmp"
      ],
      "metadata": {
        "id": "SyO-sHqMvTov"
      },
      "execution_count": null,
      "outputs": []
    },
    {
      "cell_type": "code",
      "source": [
        "# Functional Model\n",
        "input1 = Input(shape=X_train[0].shape[1:], sparse=True)\n",
        "input2 = Input(shape=X_train[1].shape[1:], sparse=True)\n",
        "\n",
        "d1 = Dense(128, activation='relu')(input1)\n",
        "d1 = Dropout(0.2)(d1)\n",
        "d1 = BatchNormalization()(d1)\n",
        "\n",
        "d2 = Dense(128, activation='relu')(input2)\n",
        "d2 = Dropout(0.2)(d2)\n",
        "d2 = BatchNormalization()(d2)\n",
        "\n",
        "c = Concatenate()([d1, d2])\n",
        "\n",
        "d = Dense(64, activation='relu')(c)\n",
        "d = Dropout(0.2)(d)\n",
        "d = BatchNormalization()(d)\n",
        "\n",
        "output = Dense(3, activation=\"softmax\")(d)\n",
        "\n",
        "# Compile the Model\n",
        "model = Model(inputs=[input1, input2], outputs=output)\n",
        "model.compile(loss=\"categorical_crossentropy\", optimizer=Adam(0.001), metrics=['accuracy'])"
      ],
      "metadata": {
        "id": "BfMlzcbjI9lH"
      },
      "execution_count": null,
      "outputs": []
    },
    {
      "cell_type": "code",
      "source": [
        "# train the model\n",
        "filepath = basePath + 'NN_model.hdf5'\n",
        "checkpoint = ModelCheckpoint(filepath=filepath, monitor='val_accuracy', verbose=0, save_best_only=True, mode='max')\n",
        "with tf.device('/GPU:0'):\n",
        "  history = model.fit(X_train, y_train_OH, validation_data=validation_data, epochs=10, batch_size=512, verbose=1, callbacks=[checkpoint]).history\n",
        "\n",
        "showPlots(history)"
      ],
      "metadata": {
        "colab": {
          "base_uri": "https://localhost:8080/",
          "height": 1000
        },
        "id": "_yzo0x5-K4Nh",
        "outputId": "3be63ef4-f4b6-4af0-87cf-d654f5dc1e65"
      },
      "execution_count": null,
      "outputs": [
        {
          "output_type": "stream",
          "name": "stdout",
          "text": [
            "Epoch 1/10\n",
            "1126/1126 [==============================] - 133s 113ms/step - loss: 0.3180 - accuracy: 0.8845 - val_loss: 0.2700 - val_accuracy: 0.8973\n",
            "Epoch 2/10\n",
            "1126/1126 [==============================] - 46s 39ms/step - loss: 0.2432 - accuracy: 0.9077 - val_loss: 0.2580 - val_accuracy: 0.9027\n",
            "Epoch 3/10\n",
            "1126/1126 [==============================] - 37s 30ms/step - loss: 0.2118 - accuracy: 0.9187 - val_loss: 0.2658 - val_accuracy: 0.9018\n",
            "Epoch 4/10\n",
            "1126/1126 [==============================] - 31s 26ms/step - loss: 0.1799 - accuracy: 0.9313 - val_loss: 0.2849 - val_accuracy: 0.8991\n",
            "Epoch 5/10\n",
            "1126/1126 [==============================] - 30s 25ms/step - loss: 0.1515 - accuracy: 0.9423 - val_loss: 0.3148 - val_accuracy: 0.8962\n",
            "Epoch 6/10\n",
            "1126/1126 [==============================] - 28s 24ms/step - loss: 0.1284 - accuracy: 0.9514 - val_loss: 0.3443 - val_accuracy: 0.8934\n",
            "Epoch 7/10\n",
            "1126/1126 [==============================] - 25s 21ms/step - loss: 0.1124 - accuracy: 0.9578 - val_loss: 0.3674 - val_accuracy: 0.8930\n",
            "Epoch 8/10\n",
            "1126/1126 [==============================] - 26s 21ms/step - loss: 0.0997 - accuracy: 0.9630 - val_loss: 0.4087 - val_accuracy: 0.8932\n",
            "Epoch 9/10\n",
            "1126/1126 [==============================] - 27s 23ms/step - loss: 0.0896 - accuracy: 0.9668 - val_loss: 0.4227 - val_accuracy: 0.8914\n",
            "Epoch 10/10\n",
            "1126/1126 [==============================] - 25s 21ms/step - loss: 0.0827 - accuracy: 0.9697 - val_loss: 0.4472 - val_accuracy: 0.8936\n"
          ]
        },
        {
          "output_type": "display_data",
          "data": {
            "text/plain": [
              "<Figure size 640x480 with 1 Axes>"
            ],
            "image/png": "[encoded data removed]"
          },
          "metadata": {}
        },
        {
          "output_type": "display_data",
          "data": {
            "text/plain": [
              "<Figure size 640x480 with 1 Axes>"
            ],
            "image/png": "[encoded data removed]"
          },
          "metadata": {}
        }
      ]
    },
    {
      "cell_type": "code",
      "source": [
        "filepath = basePath + 'NN_model.hdf5'\n",
        "model = load_model(filepath)\n",
        "with tf.device('/GPU:0'):\n",
        "  model.evaluate(X_test, y_test_OH, verbose=0)\n",
        "  y_pred = model.predict(X_test)"
      ],
      "metadata": {
        "id": "iXjEVX_jvhCn"
      },
      "execution_count": null,
      "outputs": []
    },
    {
      "cell_type": "code",
      "source": [
        "y_pred_OH = argmaxKeepDimensions(y_pred)\n",
        "accuray = accuracy_score(y_pred_OH, y_test_OH)\n",
        "\n",
        "report = classification_report(y_test_OH, y_pred_OH, target_names=['POS', 'NEG', 'NEUT'], output_dict=True)\n",
        "sb.heatmap(pd.DataFrame(report).iloc[:-1, :].T, annot=True, cmap='crest')\n",
        "\n",
        "print(\"Accuracy:\", accuray)"
      ],
      "metadata": {
        "colab": {
          "base_uri": "https://localhost:8080/",
          "height": 447
        },
        "id": "OQcvOdSEB9TB",
        "outputId": "380f26c5-6613-40d7-c544-b3741649dd40"
      },
      "execution_count": null,
      "outputs": [
        {
          "output_type": "stream",
          "name": "stdout",
          "text": [
            "Accuracy: 0.9030971216090242\n"
          ]
        },
        {
          "output_type": "display_data",
          "data": {
            "text/plain": [
              "<Figure size 640x480 with 2 Axes>"
            ],
            "image/png": "[encoded data removed]"
          },
          "metadata": {}
        }
      ]
    },
    {
      "cell_type": "code",
      "source": [
        "labels = [0,1,2]\n",
        "cm = confusion_matrix(np.argmax(y_test_OH, axis=1), np.argmax(y_pred_OH, axis=1), labels=labels)\n",
        "disp = ConfusionMatrixDisplay(confusion_matrix=cm, display_labels=['POS', 'NEG', 'NEUT'])\n",
        "disp.plot();"
      ],
      "metadata": {
        "id": "J34f1aIhPFC4"
      },
      "execution_count": null,
      "outputs": []
    },
    {
      "cell_type": "markdown",
      "source": [
        "# **Bert Transfer learning**"
      ],
      "metadata": {
        "id": "z8yGs_Fto96u"
      }
    },
    {
      "cell_type": "markdown",
      "source": [
        "## **Preprocessing and Preparing the data**"
      ],
      "metadata": {
        "id": "tm2JejePNGvq"
      }
    },
    {
      "cell_type": "code",
      "source": [
        "def getSampleFromDataset(review_headline, review_body, rev_class, sampleNum=10000):\n",
        "\n",
        "  pos_indices = np.where(rev_class == 1)[0]\n",
        "  neg_indices = np.where(rev_class == 2)[0]\n",
        "  neut_indice = np.where(rev_class == 3)[0]\n",
        "\n",
        "  np.random.seed(5)\n",
        "  size = sampleNum//3\n",
        "  pos_indices = np.random.choice(pos_indices, size=size, replace=False)\n",
        "  neg_indices = np.random.choice(neg_indices, size=size, replace=False)\n",
        "  neut_indices = np.random.choice(neut_indice, size=sampleNum-2*size, replace=False)\n",
        "\n",
        "  sample_indices = np.concatenate([pos_indices, neg_indices, neut_indices], axis=0)\n",
        "\n",
        "  review_headline_sample = np.take(review_headline, sample_indices)\n",
        "  review_body_sample = np.take(review_body, sample_indices)\n",
        "  rev_class_sample = np.take(rev_class, sample_indices)\n",
        "\n",
        "  # np.save(basePath + 'review_class_sample.npy', rev_class)\n",
        "\n",
        "  return review_headline_sample, review_body_sample, rev_class_sample"
      ],
      "metadata": {
        "id": "K3KoZQxqJwom"
      },
      "execution_count": null,
      "outputs": []
    },
    {
      "cell_type": "code",
      "source": [
        "dataset = pd.read_csv(dataPath)\n",
        "\n",
        "useless_features = ['review_date', 'verified_purchase'] + list(dataset.columns[8:11]) + list(dataset.columns[0:7]) + list(dataset.columns[-7:])\n",
        "print(useless_features)\n",
        "\n",
        "dataset.drop(columns=useless_features, inplace=True)\n",
        "# delete rows with nan elements\n",
        "dataset = dataset.dropna()\n",
        "\n",
        "review_headline = np.array(dataset['review_headline'])\n",
        "review_body = np.array(dataset['review_body'])\n",
        "star_rating = np.array(dataset['star_rating'])\n",
        "rev_class = np.empty_like(star_rating)\n",
        "\n",
        "for i  in range(len(rev_class)):\n",
        "  if star_rating[i] >= 4:\n",
        "    rev_class[i] = 1  # class1 : Pos Class\n",
        "  elif star_rating[i] <= 2:\n",
        "    rev_class[i] = 2  # class2 : Neg class\n",
        "  elif star_rating[i] == 3:\n",
        "    rev_class[i] = 3  # class3 : Neutral class\n",
        "\n",
        "dataset['rev_class'] = rev_class\n",
        "\n",
        "dataset.head()"
      ],
      "metadata": {
        "colab": {
          "base_uri": "https://localhost:8080/",
          "height": 281
        },
        "id": "K4Ocm_5wLAEf",
        "outputId": "c4f18851-be0d-484c-bff8-906af1dc8a57"
      },
      "execution_count": null,
      "outputs": [
        {
          "output_type": "stream",
          "name": "stderr",
          "text": [
            "<ipython-input-17-b43a68fc6044>:1: DtypeWarning: Columns (17,18,19,20,21) have mixed types. Specify dtype option on import or set low_memory=False.\n",
            "  dataset = pd.read_csv(dataPath)\n"
          ]
        },
        {
          "output_type": "stream",
          "name": "stdout",
          "text": [
            "['review_date', 'verified_purchase', 'helpful_votes', 'total_votes', 'vine', 'marketplace', 'customer_id', 'review_id', 'product_id', 'product_parent', 'product_title', 'product_category', 'Unnamed: 15', 'Unnamed: 16', 'Unnamed: 17', 'Unnamed: 18', 'Unnamed: 19', 'Unnamed: 20', 'Unnamed: 21']\n"
          ]
        },
        {
          "output_type": "execute_result",
          "data": {
            "text/plain": [
              "   star_rating                             review_headline  \\\n",
              "0            5                                  Five Stars   \n",
              "1            5  I love thiswatch it keeps time wonderfully   \n",
              "2            2                                   Two Stars   \n",
              "3            5                                  Five Stars   \n",
              "4            4    Beautiful face, but cheap sounding links   \n",
              "\n",
              "                                         review_body  rev_class  \n",
              "0  Absolutely love this watch! Get compliments al...          1  \n",
              "1       I love this watch it keeps time wonderfully.          1  \n",
              "2                                          Scratches          2  \n",
              "3  It works well on me. However, I found cheaper ...          1  \n",
              "4  Beautiful watch face.  The band looks nice all...          1  "
            ],
            "text/html": [
              "\n",
              "  <div id=\"df-3fbd4b0c-9dba-4a1c-89f5-d7968be53b7b\">\n",
              "    <div class=\"colab-df-container\">\n",
              "      <div>\n",
              "<style scoped>\n",
              "    .dataframe tbody tr th:only-of-type {\n",
              "        vertical-align: middle;\n",
              "    }\n",
              "\n",
              "    .dataframe tbody tr th {\n",
              "        vertical-align: top;\n",
              "    }\n",
              "\n",
              "    .dataframe thead th {\n",
              "        text-align: right;\n",
              "    }\n",
              "</style>\n",
              "<table border=\"1\" class=\"dataframe\">\n",
              "  <thead>\n",
              "    <tr style=\"text-align: right;\">\n",
              "      <th></th>\n",
              "      <th>star_rating</th>\n",
              "      <th>review_headline</th>\n",
              "      <th>review_body</th>\n",
              "      <th>rev_class</th>\n",
              "    </tr>\n",
              "  </thead>\n",
              "  <tbody>\n",
              "    <tr>\n",
              "      <th>0</th>\n",
              "      <td>5</td>\n",
              "      <td>Five Stars</td>\n",
              "      <td>Absolutely love this watch! Get compliments al...</td>\n",
              "      <td>1</td>\n",
              "    </tr>\n",
              "    <tr>\n",
              "      <th>1</th>\n",
              "      <td>5</td>\n",
              "      <td>I love thiswatch it keeps time wonderfully</td>\n",
              "      <td>I love this watch it keeps time wonderfully.</td>\n",
              "      <td>1</td>\n",
              "    </tr>\n",
              "    <tr>\n",
              "      <th>2</th>\n",
              "      <td>2</td>\n",
              "      <td>Two Stars</td>\n",
              "      <td>Scratches</td>\n",
              "      <td>2</td>\n",
              "    </tr>\n",
              "    <tr>\n",
              "      <th>3</th>\n",
              "      <td>5</td>\n",
              "      <td>Five Stars</td>\n",
              "      <td>It works well on me. However, I found cheaper ...</td>\n",
              "      <td>1</td>\n",
              "    </tr>\n",
              "    <tr>\n",
              "      <th>4</th>\n",
              "      <td>4</td>\n",
              "      <td>Beautiful face, but cheap sounding links</td>\n",
              "      <td>Beautiful watch face.  The band looks nice all...</td>\n",
              "      <td>1</td>\n",
              "    </tr>\n",
              "  </tbody>\n",
              "</table>\n",
              "</div>\n",
              "      <button class=\"colab-df-convert\" onclick=\"convertToInteractive('df-3fbd4b0c-9dba-4a1c-89f5-d7968be53b7b')\"\n",
              "              title=\"Convert this dataframe to an interactive table.\"\n",
              "              style=\"display:none;\">\n",
              "        \n",
              "  <svg xmlns=\"http://www.w3.org/2000/svg\" height=\"24px\"viewBox=\"0 0 24 24\"\n",
              "       width=\"24px\">\n",
              "    <path d=\"M0 0h24v24H0V0z\" fill=\"none\"/>\n",
              "    <path d=\"M18.56 5.44l.94 2.06.94-2.06 2.06-.94-2.06-.94-.94-2.06-.94 2.06-2.06.94zm-11 1L8.5 8.5l.94-2.06 2.06-.94-2.06-.94L8.5 2.5l-.94 2.06-2.06.94zm10 10l.94 2.06.94-2.06 2.06-.94-2.06-.94-.94-2.06-.94 2.06-2.06.94z\"/><path d=\"M17.41 7.96l-1.37-1.37c-.4-.4-.92-.59-1.43-.59-.52 0-1.04.2-1.43.59L10.3 9.45l-7.72 7.72c-.78.78-.78 2.05 0 2.83L4 21.41c.39.39.9.59 1.41.59.51 0 1.02-.2 1.41-.59l7.78-7.78 2.81-2.81c.8-.78.8-2.07 0-2.86zM5.41 20L4 18.59l7.72-7.72 1.47 1.35L5.41 20z\"/>\n",
              "  </svg>\n",
              "      </button>\n",
              "      \n",
              "  <style>\n",
              "    .colab-df-container {\n",
              "      display:flex;\n",
              "      flex-wrap:wrap;\n",
              "      gap: 12px;\n",
              "    }\n",
              "\n",
              "    .colab-df-convert {\n",
              "      background-color: #E8F0FE;\n",
              "      border: none;\n",
              "      border-radius: 50%;\n",
              "      cursor: pointer;\n",
              "      display: none;\n",
              "      fill: #1967D2;\n",
              "      height: 32px;\n",
              "      padding: 0 0 0 0;\n",
              "      width: 32px;\n",
              "    }\n",
              "\n",
              "    .colab-df-convert:hover {\n",
              "      background-color: #E2EBFA;\n",
              "      box-shadow: 0px 1px 2px rgba(60, 64, 67, 0.3), 0px 1px 3px 1px rgba(60, 64, 67, 0.15);\n",
              "      fill: #174EA6;\n",
              "    }\n",
              "\n",
              "    [theme=dark] .colab-df-convert {\n",
              "      background-color: #3B4455;\n",
              "      fill: #D2E3FC;\n",
              "    }\n",
              "\n",
              "    [theme=dark] .colab-df-convert:hover {\n",
              "      background-color: #434B5C;\n",
              "      box-shadow: 0px 1px 3px 1px rgba(0, 0, 0, 0.15);\n",
              "      filter: drop-shadow(0px 1px 2px rgba(0, 0, 0, 0.3));\n",
              "      fill: #FFFFFF;\n",
              "    }\n",
              "  </style>\n",
              "\n",
              "      <script>\n",
              "        const buttonEl =\n",
              "          document.querySelector('#df-3fbd4b0c-9dba-4a1c-89f5-d7968be53b7b button.colab-df-convert');\n",
              "        buttonEl.style.display =\n",
              "          google.colab.kernel.accessAllowed ? 'block' : 'none';\n",
              "\n",
              "        async function convertToInteractive(key) {\n",
              "          const element = document.querySelector('#df-3fbd4b0c-9dba-4a1c-89f5-d7968be53b7b');\n",
              "          const dataTable =\n",
              "            await google.colab.kernel.invokeFunction('convertToInteractive',\n",
              "                                                     [key], {});\n",
              "          if (!dataTable) return;\n",
              "\n",
              "          const docLinkHtml = 'Like what you see? Visit the ' +\n",
              "            '<a target=\"_blank\" href=https://colab.research.google.com/notebooks/data_table.ipynb>data table notebook</a>'\n",
              "            + ' to learn more about interactive tables.';\n",
              "          element.innerHTML = '';\n",
              "          dataTable['output_type'] = 'display_data';\n",
              "          await google.colab.output.renderOutput(dataTable, element);\n",
              "          const docLink = document.createElement('div');\n",
              "          docLink.innerHTML = docLinkHtml;\n",
              "          element.appendChild(docLink);\n",
              "        }\n",
              "      </script>\n",
              "    </div>\n",
              "  </div>\n",
              "  "
            ]
          },
          "metadata": {},
          "execution_count": 17
        }
      ]
    },
    {
      "cell_type": "code",
      "source": [
        "# get samples\n",
        "review_headline_sample, review_body_sample, rev_class_sample = getSampleFromDataset(review_headline, review_body, rev_class, sampleNum=10000)\n",
        "\n",
        "review_headline_sample.shape, review_body_sample.shape, rev_class_sample.shape"
      ],
      "metadata": {
        "colab": {
          "base_uri": "https://localhost:8080/"
        },
        "id": "fXagOq2jLNoZ",
        "outputId": "eec0dee4-b973-4a93-97c5-52dd58d43f2e"
      },
      "execution_count": null,
      "outputs": [
        {
          "output_type": "execute_result",
          "data": {
            "text/plain": [
              "((10000,), (10000,), (10000,))"
            ]
          },
          "metadata": {},
          "execution_count": 18
        }
      ]
    },
    {
      "cell_type": "code",
      "execution_count": null,
      "metadata": {
        "id": "f1x5FrCcw7Kh"
      },
      "outputs": [],
      "source": [
        "def w_tokenizer(text):\n",
        "  tokenizer = WhitespaceTokenizer()\n",
        "  tokenized_list = tokenizer.tokenize(text)\n",
        "  return tokenized_list\n",
        "\n",
        "def stemmer_porter(text_list):\n",
        "  porter = PorterStemmer()\n",
        "  return_list = []\n",
        "  for i in range(len(text_list)):\n",
        "      return_list.append(porter.stem(text_list[i]))\n",
        "  return(return_list)\n",
        "\n",
        "\n",
        "def remove_stopwords(text_list):\n",
        "  NLTK_stopwords = nltk.corpus.stopwords.words('english')\n",
        "  return_list = []\n",
        "  for i in range(len(text_list)):\n",
        "      if text_list[i] not in NLTK_stopwords:\n",
        "          return_list.append(text_list[i])\n",
        "  return return_list\n",
        "\n",
        "def remove_punc(text):\n",
        "    if isinstance((text), (str)):\n",
        "        text = re.sub('<[^>]*>', '', text)\n",
        "        text = re.sub('[\\W]+', '', text.lower())\n",
        "        return text\n",
        "    if isinstance((text), (list)):\n",
        "        return_list = []\n",
        "        for i in range(len(text)):\n",
        "            temp_text = re.sub('<[^>]*>', '', text[i])\n",
        "            temp_text = re.sub('[\\W]+', '', temp_text.lower())\n",
        "            temp_text = re.sub('[0-9][0-9]+', '', temp_text.lower())\n",
        "            temp_text = re.sub('\\bbr\\b', '', temp_text.lower())\n",
        "            return_list.append(temp_text)\n",
        "        return(return_list)\n",
        "    else:\n",
        "        pass\n",
        "\n",
        "def preprocess_sentence(sentence):\n",
        "  return remove_stopwords(stemmer_porter(remove_punc(w_tokenizer(sentence))))"
      ]
    },
    {
      "cell_type": "code",
      "source": [
        "headline_train_bert, headline_test_bert, body_train_bert, body_test_bert, y_train_bert, y_test_bert = train_test_split(review_headline_sample, review_body_sample, rev_class_sample, test_size=0.40, random_state=75)\n",
        "headline_dev_bert, headline_test_bert, body_dev_bert, body_test_bert, y_dev_bert, y_test_bert = train_test_split(headline_test_bert, body_test_bert, y_test_bert, test_size=0.50, random_state=75)\n",
        "\n",
        "print('train shape: ', headline_train_bert.shape, body_train_bert.shape, y_train_bert.shape)\n",
        "print('dev shape: ', headline_dev_bert.shape, body_dev_bert.shape, y_dev_bert.shape)\n",
        "print('test shape: ', headline_test_bert.shape, body_test_bert.shape, y_test_bert.shape)"
      ],
      "metadata": {
        "colab": {
          "base_uri": "https://localhost:8080/"
        },
        "id": "RcxmUYtHTxxq",
        "outputId": "be7b09d6-9825-40c1-9a69-1fa415605016"
      },
      "execution_count": null,
      "outputs": [
        {
          "output_type": "stream",
          "name": "stdout",
          "text": [
            "train shape:  (6000,) (6000,) (6000,)\n",
            "dev shape:  (2000,) (2000,) (2000,)\n",
            "test shape:  (2000,) (2000,) (2000,)\n"
          ]
        }
      ]
    },
    {
      "cell_type": "code",
      "source": [
        "# preprocessed_headline_train_bert = [preprocess_sentence(x) for x in review_headline_sample]"
      ],
      "metadata": {
        "id": "maY1gWCO0W8L"
      },
      "execution_count": null,
      "outputs": []
    },
    {
      "cell_type": "code",
      "execution_count": null,
      "metadata": {
        "id": "7v6E9CAPw7Km"
      },
      "outputs": [],
      "source": [
        "# with tf.device('/GPU:0'):\n",
        "#   preprocessed_review_headline = np.array([preprocess_sentence(x) for x in review_headline_sample])\n",
        "#   preprocessed_review_body = np.array([preprocess_sentence(x) for x in review_body_sample])\n",
        "\n",
        "# preprocessed_review_headline_length = len(preprocessed_review_headline)\n",
        "# preprocessed_review_body_length = len(preprocessed_review_body)"
      ]
    },
    {
      "cell_type": "code",
      "source": [
        "headline_train_bert[:5]"
      ],
      "metadata": {
        "colab": {
          "base_uri": "https://localhost:8080/"
        },
        "id": "MlSU3qZtzwbz",
        "outputId": "2bb47c0d-347d-48c9-df35-e019960dc698"
      },
      "execution_count": null,
      "outputs": [
        {
          "output_type": "execute_result",
          "data": {
            "text/plain": [
              "array(['I\\'ve been waiting a long \"time\" for this!!!', 'sucks!',\n",
              "       'One Star', 'Its Ok the band is a little small',\n",
              "       'Watches did not run.'], dtype=object)"
            ]
          },
          "metadata": {},
          "execution_count": 23
        }
      ]
    },
    {
      "cell_type": "code",
      "source": [
        "delimiter = '[SEP]'\n",
        "x_train  = [f'{item1}{delimiter}{item2}' for item1, item2 in zip(headline_train_bert.tolist(), body_train_bert.tolist())]\n",
        "x_dev    = [f'{item1}{delimiter}{item2}' for item1, item2 in zip(headline_dev_bert.tolist(), body_dev_bert.tolist())]\n",
        "x_test   = [f'{item1}{delimiter}{item2}' for item1, item2 in zip(headline_test_bert.tolist(), body_test_bert.tolist())]\n",
        "y_train_bert_OH = to_categorical(y_train_bert)[:, 1:4]\n",
        "y_dev_bert_OH = to_categorical(y_dev_bert)[:, 1:4]\n",
        "y_test_bert_OH = to_categorical(y_test_bert)[:, 1:4]\n",
        "\n",
        "validation_data = (body_dev_bert, y_dev_bert_OH)\n",
        "y_train_bert_OH.shape"
      ],
      "metadata": {
        "colab": {
          "base_uri": "https://localhost:8080/"
        },
        "id": "5NLqTf4COsjl",
        "outputId": "2969bdb6-d769-4f9d-a0d3-26acfbeb3b01"
      },
      "execution_count": null,
      "outputs": [
        {
          "output_type": "execute_result",
          "data": {
            "text/plain": [
              "(6000, 3)"
            ]
          },
          "metadata": {},
          "execution_count": 24
        }
      ]
    },
    {
      "cell_type": "markdown",
      "source": [
        "## **Bert Classification Model**"
      ],
      "metadata": {
        "id": "oLGkj9gNQTHN"
      }
    },
    {
      "cell_type": "code",
      "source": [
        "def showPlots(history):\n",
        "  plt.plot(history['accuracy'],\n",
        "            label='training accuracy', marker='.', color='green')\n",
        "  plt.plot(history['val_accuracy'],\n",
        "            label='test accuracy', marker='.', color='blue')\n",
        "  plt.xlabel('Epochs')\n",
        "  plt.ylabel('Accuracy')\n",
        "  plt.legend()\n",
        "  plt.show()\n",
        "\n",
        "  plt.plot(history['loss'],\n",
        "            label='training loss', marker='.', color='green')\n",
        "  plt.plot(history['val_loss'],\n",
        "            label='test loss', marker='.', color='blue')\n",
        "  plt.xlabel('Epochs')\n",
        "  plt.ylabel('Loss')\n",
        "  plt.legend()\n",
        "  plt.show()\n",
        "\n",
        "# function for convert probablity to 0s and 1s for multiple classification\n",
        "def argmaxKeepDimensions(arr):\n",
        "  tmp = np.zeros_like(arr)\n",
        "  tmp[np.arange(len(arr)), arr.argmax(1)] = 1\n",
        "  return tmp"
      ],
      "metadata": {
        "id": "mtDwhSXze1ZZ"
      },
      "execution_count": null,
      "outputs": []
    },
    {
      "cell_type": "code",
      "source": [
        "from transformers import TFBertForSequenceClassification, BertTokenizer,TFBertModel\n",
        "\n",
        "tokenizer = BertTokenizer.from_pretrained('bert-base-uncased')\n",
        "encoded_train = tokenizer.batch_encode_plus(x_train, add_special_tokens=True, max_length=128, padding='max_length', truncation=True, return_attention_mask=True,  return_tensors=\"tf\")\n",
        "encoded_dev = tokenizer.batch_encode_plus(x_dev, add_special_tokens=True, max_length=128, padding='max_length', truncation=True, return_attention_mask=True,  return_tensors=\"tf\")\n",
        "encoded_test = tokenizer.batch_encode_plus(x_test, add_special_tokens=True, max_length=128, padding='max_length', truncation=True, return_attention_mask=True,  return_tensors=\"tf\")"
      ],
      "metadata": {
        "id": "FF5W0-QRNgKg"
      },
      "execution_count": null,
      "outputs": []
    },
    {
      "cell_type": "code",
      "source": [
        "encoded_train['input_ids'][0]"
      ],
      "metadata": {
        "colab": {
          "base_uri": "https://localhost:8080/"
        },
        "id": "78OA3YdKe6d3",
        "outputId": "07558c59-8eb0-447f-9ba1-d102654eb52d"
      },
      "execution_count": null,
      "outputs": [
        {
          "output_type": "execute_result",
          "data": {
            "text/plain": [
              "<tf.Tensor: shape=(128,), dtype=int32, numpy=\n",
              "array([  101,  1045,  1005,  2310,  2042,  3403,  1037,  2146,  1000,\n",
              "        2051,  1000,  2005,  2023,   999,   999,   999,   102,  1045,\n",
              "        2293,  2023,  3422,  1012,  1045,  1005,  2310,  2018,  2028,\n",
              "        3130,  1998,  2009,  2734,  1037,  2047,  6046,  1012,  1045,\n",
              "        2921, 17693,  2000,  2202,  2009,  1999,  1006,  2005,  2058,\n",
              "        1037,  2095,  1007,  1998,  2059,  1045,  2363,  2019,  9733,\n",
              "        5592,  4003,  1012,  1045,  2481,  1005,  1056,  9507,   999,\n",
              "        1045,  4929,  7877,  2061,  2009,  2003,  7812,  2043,  1045,\n",
              "        5256,  2039,  2012,  2305,  2030,  2065,  1045,  2572,  1999,\n",
              "        2026,  2482,  2012,  2305,  1010,  1045,  2064,  5245,  1996,\n",
              "        6462,  2000,  2156,  2054,  2051,  2009,  2003,   999,   102,\n",
              "           0,     0,     0,     0,     0,     0,     0,     0,     0,\n",
              "           0,     0,     0,     0,     0,     0,     0,     0,     0,\n",
              "           0,     0,     0,     0,     0,     0,     0,     0,     0,\n",
              "           0,     0], dtype=int32)>"
            ]
          },
          "metadata": {},
          "execution_count": 47
        }
      ]
    },
    {
      "cell_type": "code",
      "source": [
        "print(y_train_bert.shape)\n",
        "print(encoded_train['input_ids'].shape)"
      ],
      "metadata": {
        "colab": {
          "base_uri": "https://localhost:8080/"
        },
        "id": "Y8pcTUiZvDXn",
        "outputId": "7835c9b9-ef0f-4eb8-df43-bae07cec2595"
      },
      "execution_count": null,
      "outputs": [
        {
          "output_type": "stream",
          "name": "stdout",
          "text": [
            "(6000,)\n",
            "(6000, 200)\n"
          ]
        }
      ]
    },
    {
      "cell_type": "code",
      "source": [
        "model = TFBertForSequenceClassification.from_pretrained('bert-base-uncased', num_labels=3)\n",
        "# train the model\n",
        "filepath = basePath + 'bertTransgerLRN.h5'\n",
        "checkpoint = ModelCheckpoint(filepath=filepath, monitor='val_accuracy', verbose=0, save_best_only=True, mode='max')\n",
        "\n",
        "\n",
        "optimizer = tf.keras.optimizers.Adam(learning_rate=3e-5)\n",
        "loss = tf.keras.losses.CategoricalCrossentropy(from_logits=True)\n",
        "\n",
        "model.compile(optimizer=optimizer, loss=loss, metrics=['accuracy'])"
      ],
      "metadata": {
        "colab": {
          "base_uri": "https://localhost:8080/"
        },
        "id": "zVES9FrWCOJw",
        "outputId": "d487a2db-9fbc-497b-f9e1-0ae4ad6e3981"
      },
      "execution_count": null,
      "outputs": [
        {
          "output_type": "stream",
          "name": "stderr",
          "text": [
            "All PyTorch model weights were used when initializing TFBertForSequenceClassification.\n",
            "\n",
            "Some weights or buffers of the TF 2.0 model TFBertForSequenceClassification were not initialized from the PyTorch model and are newly initialized: ['classifier.weight', 'classifier.bias']\n",
            "You should probably TRAIN this model on a down-stream task to be able to use it for predictions and inference.\n"
          ]
        }
      ]
    },
    {
      "cell_type": "code",
      "source": [
        "# X_train = np.array(encoded_train['input_ids']).astype('int32')\n",
        "# attention_masks_train = np.array(encoded_train['attention_mask']).astype('int32')\n",
        "# segment_ids_train = np.zeros(X_train.shape).astype('int32')\n",
        "\n",
        "def get3InputOfBertFromEncoded(encoded):\n",
        "  token_ids = np.array(encoded['input_ids']).astype('int32')\n",
        "  attention_mask = np.array(encoded['attention_mask']).astype('int32')\n",
        "  token_type_ids = np.zeros(token_ids.shape).astype('int32')\n",
        "  return token_ids, attention_mask, token_type_ids\n",
        "\n",
        "token_ids_train, attention_masks_train, token_type_ids_train = get3InputOfBertFromEncoded(encoded_train)\n",
        "token_ids_dev, attention_masks_dev, token_type_ids_dev = get3InputOfBertFromEncoded(encoded_dev)\n",
        "token_ids_test, attention_masks_test, token_type_ids_test = get3InputOfBertFromEncoded(encoded_test)\n",
        "\n",
        "\n",
        "with tf.device('/GPU:0'):\n",
        "  history = model.fit([token_ids_train, attention_masks_train, token_type_ids_train], y_train_bert_OH, validation_data=([token_ids_dev, attention_masks_dev, token_type_ids_dev], y_dev_bert_OH), epochs=5, batch_size=64, verbose=1).history\n",
        "\n",
        "model.save_weights(filepath)"
      ],
      "metadata": {
        "id": "ll55lwF6ZElK",
        "colab": {
          "base_uri": "https://localhost:8080/"
        },
        "outputId": "be8bf500-bec4-4e07-de51-496730d8a70f"
      },
      "execution_count": null,
      "outputs": [
        {
          "output_type": "stream",
          "name": "stdout",
          "text": [
            "Epoch 1/5\n",
            "94/94 [==============================] - 229s 2s/step - loss: 0.6882 - accuracy: 0.6980 - val_loss: 0.4707 - val_accuracy: 0.8110\n",
            "Epoch 2/5\n",
            "94/94 [==============================] - 162s 2s/step - loss: 0.4124 - accuracy: 0.8377 - val_loss: 0.4466 - val_accuracy: 0.8110\n",
            "Epoch 3/5\n",
            "94/94 [==============================] - 157s 2s/step - loss: 0.2812 - accuracy: 0.9030 - val_loss: 0.4883 - val_accuracy: 0.8135\n",
            "Epoch 4/5\n",
            "94/94 [==============================] - 162s 2s/step - loss: 0.1778 - accuracy: 0.9418 - val_loss: 0.5848 - val_accuracy: 0.8110\n",
            "Epoch 5/5\n",
            "94/94 [==============================] - 160s 2s/step - loss: 0.1109 - accuracy: 0.9670 - val_loss: 0.6652 - val_accuracy: 0.8000\n"
          ]
        }
      ]
    },
    {
      "cell_type": "code",
      "source": [
        "model.load_weights(basePath + 'bertTransgerLRN_backup.h5')"
      ],
      "metadata": {
        "id": "oQIV1yPsGO_K"
      },
      "execution_count": null,
      "outputs": []
    },
    {
      "cell_type": "code",
      "source": [
        "showPlots(history)"
      ],
      "metadata": {
        "id": "cQPQutkkQW5A"
      },
      "execution_count": null,
      "outputs": []
    },
    {
      "cell_type": "code",
      "source": [
        "#filepath = basePath + 'bertTransgerLRN.hdf5'\n",
        "#model = load_model(filepath)\n",
        "with tf.device('/GPU:0'):\n",
        "  display(model.evaluate([token_ids_test, attention_masks_test, token_type_ids_test], y_test_bert_OH, verbose=0))\n",
        "  y_pred = model.predict([token_ids_test, attention_masks_test, token_type_ids_test])"
      ],
      "metadata": {
        "id": "Y-7Z4BPN5JLC",
        "colab": {
          "base_uri": "https://localhost:8080/",
          "height": 53
        },
        "outputId": "9ec23c41-dfa4-4e0b-8035-0dc8a119ee5f"
      },
      "execution_count": null,
      "outputs": [
        {
          "output_type": "display_data",
          "data": {
            "text/plain": [
              "[0.7537204623222351, 0.7760000228881836]"
            ]
          },
          "metadata": {}
        },
        {
          "output_type": "stream",
          "name": "stdout",
          "text": [
            "63/63 [==============================] - 24s 268ms/step\n"
          ]
        }
      ]
    },
    {
      "cell_type": "code",
      "source": [
        "y_pred_OH = argmaxKeepDimensions(y_pred.logits)\n",
        "accuray = accuracy_score(y_pred_OH, y_test_bert_OH)\n",
        "\n",
        "report = classification_report(y_test_bert_OH, y_pred_OH, target_names=['POS', 'NEG', 'NEUT'], output_dict=True)\n",
        "sb.heatmap(pd.DataFrame(report).iloc[:-1, :].T, annot=True, cmap='crest')\n",
        "\n",
        "print(\"Accuracy:\", accuray)"
      ],
      "metadata": {
        "colab": {
          "base_uri": "https://localhost:8080/",
          "height": 448
        },
        "id": "ScL53lbmAGq3",
        "outputId": "c591e6a0-b2d1-489e-f0e5-a47174667616"
      },
      "execution_count": null,
      "outputs": [
        {
          "output_type": "stream",
          "name": "stdout",
          "text": [
            "Accuracy: 0.776\n"
          ]
        },
        {
          "output_type": "display_data",
          "data": {
            "text/plain": [
              "<Figure size 640x480 with 2 Axes>"
            ],
            "image/png": "[encoded data removed]"
          },
          "metadata": {}
        }
      ]
    },
    {
      "cell_type": "code",
      "source": [
        "labels = [0,1,2]\n",
        "cm = confusion_matrix(np.argmax(y_test_bert_OH, axis=1), np.argmax(y_pred_OH, axis=1), labels=labels)\n",
        "disp = ConfusionMatrixDisplay(confusion_matrix=cm, display_labels=['POS', 'NEG', 'NEUT'])\n",
        "disp.plot();"
      ],
      "metadata": {
        "colab": {
          "base_uri": "https://localhost:8080/",
          "height": 449
        },
        "id": "3MU8cP3wQeCP",
        "outputId": "2b7b8946-5e82-407f-a2ab-281625e07765"
      },
      "execution_count": null,
      "outputs": [
        {
          "output_type": "display_data",
          "data": {
            "text/plain": [
              "<Figure size 640x480 with 2 Axes>"
            ],
            "image/png": "[encoded data removed]"
          },
          "metadata": {}
        }
      ]
    },
    {
      "cell_type": "markdown",
      "source": [
        "## **Bert as Embedding layer**"
      ],
      "metadata": {
        "id": "7DAzZ5ujfPBZ"
      }
    },
    {
      "cell_type": "code",
      "source": [
        "transformer_model = TFBertModel.from_pretrained('bert-base-uncased')\n",
        "transformer_model.trainable = False"
      ],
      "metadata": {
        "colab": {
          "base_uri": "https://localhost:8080/"
        },
        "id": "9OHHGx3cfhBW",
        "outputId": "347de927-d311-4a2c-83ea-bc1830ca63c2"
      },
      "execution_count": null,
      "outputs": [
        {
          "output_type": "stream",
          "name": "stderr",
          "text": [
            "Some weights of the PyTorch model were not used when initializing the TF 2.0 model TFBertModel: ['cls.predictions.transform.LayerNorm.bias', 'cls.predictions.bias', 'cls.predictions.transform.LayerNorm.weight', 'cls.seq_relationship.bias', 'cls.predictions.transform.dense.weight', 'cls.seq_relationship.weight', 'cls.predictions.transform.dense.bias']\n",
            "- This IS expected if you are initializing TFBertModel from a PyTorch model trained on another task or with another architecture (e.g. initializing a TFBertForSequenceClassification model from a BertForPreTraining model).\n",
            "- This IS NOT expected if you are initializing TFBertModel from a PyTorch model that you expect to be exactly identical (e.g. initializing a TFBertForSequenceClassification model from a BertForSequenceClassification model).\n",
            "All the weights of TFBertModel were initialized from the PyTorch model.\n",
            "If your task is similar to the task the model of the checkpoint was trained on, you can already use TFBertModel for predictions without further training.\n"
          ]
        }
      ]
    },
    {
      "cell_type": "code",
      "source": [
        "input_ids = tf.keras.layers.Input(shape=(128,), name='input_token', dtype='int32')\n",
        "input_masks_ids = tf.keras.layers.Input(shape=(128,), name='masked_token', dtype='int32')\n",
        "input_token_type = tf.keras.layers.Input(shape=(128,), name='token_type', dtype='int32')\n",
        "X = transformer_model(input_ids, input_masks_ids,input_token_type)[0]\n",
        "#X = tf.keras.layers.LSTM(128)(X)\n",
        "X = tf.keras.layers.Flatten()(X)\n",
        "d1 = Dense(128, activation='relu')(X)\n",
        "d1 = Dropout(0.2)(d1)\n",
        "d1 = BatchNormalization()(d1)\n",
        "\n",
        "'''d2 = Dense(128, activation='relu')(input2)\n",
        "d2 = Dropout(0.2)(d2)\n",
        "d2 = BatchNormalization()(d2)\n",
        "\n",
        "c = Concatenate()([d1, d2])'''\n",
        "\n",
        "d = Dense(64, activation='relu')(d1)\n",
        "d = Dropout(0.2)(d)\n",
        "d = BatchNormalization()(d)\n",
        "\n",
        "output = Dense(3, activation=\"softmax\")(d)\n",
        "X = tf.keras.layers.Dense(3, activation='softmax')(X)\n",
        "model = tf.keras.Model(inputs=[input_ids, input_masks_ids,input_token_type], outputs = X)"
      ],
      "metadata": {
        "id": "REOuG2I1fbRE"
      },
      "execution_count": null,
      "outputs": []
    },
    {
      "cell_type": "code",
      "source": [
        "filepath = basePath + 'bertEMBD.h5'\n",
        "checkpoint = ModelCheckpoint(filepath=filepath, monitor='val_accuracy', verbose=0, save_best_only=True, mode='max')\n",
        "\n",
        "\n",
        "optimizer = tf.keras.optimizers.Adam(learning_rate=0.01)\n",
        "loss = tf.keras.losses.CategoricalCrossentropy(from_logits=True)\n",
        "\n",
        "model.compile(optimizer=optimizer, loss=loss, metrics=['accuracy'])"
      ],
      "metadata": {
        "id": "0CnW3DjmrA0Q"
      },
      "execution_count": null,
      "outputs": []
    },
    {
      "cell_type": "code",
      "source": [
        "y_train_bert_OH.shape"
      ],
      "metadata": {
        "colab": {
          "base_uri": "https://localhost:8080/"
        },
        "id": "AR5E4k1mrnk9",
        "outputId": "97e63580-6f13-4baa-f4c0-016bf493f841"
      },
      "execution_count": null,
      "outputs": [
        {
          "output_type": "execute_result",
          "data": {
            "text/plain": [
              "(6000, 3)"
            ]
          },
          "metadata": {},
          "execution_count": 51
        }
      ]
    },
    {
      "cell_type": "code",
      "source": [
        "with tf.device('/GPU:0'):\n",
        "  history = model.fit([token_ids_train, attention_masks_train, token_type_ids_train], y_train_bert_OH, validation_data=([token_ids_dev, attention_masks_dev, token_type_ids_dev], y_dev_bert_OH), epochs=5, batch_size=64, verbose=1,callbacks=[checkpoint]).history"
      ],
      "metadata": {
        "id": "w33XSwc6rGq3",
        "colab": {
          "base_uri": "https://localhost:8080/"
        },
        "outputId": "6be88179-8dd3-4f55-9ac2-7c4dfe9f8886"
      },
      "execution_count": null,
      "outputs": [
        {
          "output_type": "stream",
          "name": "stdout",
          "text": [
            "Epoch 1/5\n"
          ]
        },
        {
          "output_type": "stream",
          "name": "stderr",
          "text": [
            "/usr/local/lib/python3.10/dist-packages/keras/backend.py:5561: UserWarning: \"`categorical_crossentropy` received `from_logits=True`, but the `output` argument was produced by a Softmax activation and thus does not represent logits. Was this intended?\n",
            "  output, from_logits = _get_logits(\n"
          ]
        },
        {
          "output_type": "stream",
          "name": "stdout",
          "text": [
            "94/94 [==============================] - 98s 826ms/step - loss: 16.9957 - accuracy: 0.6222 - val_loss: 9.6550 - val_accuracy: 0.6805\n",
            "Epoch 2/5\n",
            "94/94 [==============================] - 68s 729ms/step - loss: 5.8638 - accuracy: 0.7830 - val_loss: 17.1275 - val_accuracy: 0.6340\n",
            "Epoch 3/5\n",
            "94/94 [==============================] - 72s 771ms/step - loss: 5.4147 - accuracy: 0.8238 - val_loss: 17.2714 - val_accuracy: 0.6130\n",
            "Epoch 4/5\n",
            "94/94 [==============================] - 79s 846ms/step - loss: 2.5446 - accuracy: 0.8927 - val_loss: 14.6735 - val_accuracy: 0.6885\n",
            "Epoch 5/5\n",
            "94/94 [==============================] - 79s 839ms/step - loss: 1.7585 - accuracy: 0.9225 - val_loss: 13.4237 - val_accuracy: 0.6975\n"
          ]
        }
      ]
    },
    {
      "cell_type": "code",
      "source": [
        "#model = load_model(basePath+'/Models/'+'Bert_W.h5')\n",
        "os.makedirs(os.path.dirname(basePath+'/Models/'), exist_ok=True)\n",
        "model.save_weights(basePath+'/Models/'+'Bert_W.h5')"
      ],
      "metadata": {
        "id": "GVwG5ltQ3trJ"
      },
      "execution_count": null,
      "outputs": []
    },
    {
      "cell_type": "code",
      "source": [
        "filepath = basePath + 'bertEMBD.h5'\n",
        "checkpoint = ModelCheckpoint(filepath=filepath, monitor='val_accuracy', verbose=0, save_best_only=True, mode='max')\n",
        "\n",
        "transformer_model.trainable = True\n",
        "optimizer = tf.keras.optimizers.Adam(learning_rate=3e-5)\n",
        "loss = tf.keras.losses.CategoricalCrossentropy(from_logits=True)\n",
        "\n",
        "model.compile(optimizer=optimizer, loss=loss, metrics=['accuracy'])\n",
        "model.summary()\n",
        "model.load_weights(basePath+'/Models/'+'Bert_W.h5')"
      ],
      "metadata": {
        "id": "j8Mb97ad27qR",
        "colab": {
          "base_uri": "https://localhost:8080/"
        },
        "outputId": "4a969aa8-8f8c-4acf-d118-e13bf5b96603"
      },
      "execution_count": null,
      "outputs": [
        {
          "output_type": "stream",
          "name": "stdout",
          "text": [
            "Model: \"model\"\n",
            "__________________________________________________________________________________________________\n",
            " Layer (type)                   Output Shape         Param #     Connected to                     \n",
            "==================================================================================================\n",
            " input_token (InputLayer)       [(None, 128)]        0           []                               \n",
            "                                                                                                  \n",
            " masked_token (InputLayer)      [(None, 128)]        0           []                               \n",
            "                                                                                                  \n",
            " token_type (InputLayer)        [(None, 128)]        0           []                               \n",
            "                                                                                                  \n",
            " tf_bert_model (TFBertModel)    TFBaseModelOutputWi  109482240   ['input_token[0][0]',            \n",
            "                                thPoolingAndCrossAt               'masked_token[0][0]',           \n",
            "                                tentions(last_hidde               'token_type[0][0]']             \n",
            "                                n_state=(None, 128,                                               \n",
            "                                 768),                                                            \n",
            "                                 pooler_output=(Non                                               \n",
            "                                e, 768),                                                          \n",
            "                                 past_key_values=No                                               \n",
            "                                ne, hidden_states=N                                               \n",
            "                                one, attentions=Non                                               \n",
            "                                e, cross_attentions                                               \n",
            "                                =None)                                                            \n",
            "                                                                                                  \n",
            " flatten (Flatten)              (None, 98304)        0           ['tf_bert_model[0][0]']          \n",
            "                                                                                                  \n",
            " dense_3 (Dense)                (None, 3)            294915      ['flatten[0][0]']                \n",
            "                                                                                                  \n",
            "==================================================================================================\n",
            "Total params: 109,777,155\n",
            "Trainable params: 109,777,155\n",
            "Non-trainable params: 0\n",
            "__________________________________________________________________________________________________\n"
          ]
        }
      ]
    },
    {
      "cell_type": "code",
      "source": [
        "with tf.device('/GPU:0'):\n",
        "  history = model.fit([token_ids_train, attention_masks_train, token_type_ids_train], y_train_bert_OH, validation_data=([token_ids_dev, attention_masks_dev, token_type_ids_dev], y_dev_bert_OH), epochs=5, batch_size=64, verbose=1, callbacks=[checkpoint]).history"
      ],
      "metadata": {
        "id": "TkZnO6E94O7m",
        "colab": {
          "base_uri": "https://localhost:8080/"
        },
        "outputId": "82a511cf-bf38-45b5-b9f7-0b76322bdd35"
      },
      "execution_count": null,
      "outputs": [
        {
          "output_type": "stream",
          "name": "stdout",
          "text": [
            "Epoch 1/5\n"
          ]
        },
        {
          "output_type": "stream",
          "name": "stderr",
          "text": [
            "WARNING:tensorflow:Gradients do not exist for variables ['tf_bert_model/bert/pooler/dense/kernel:0', 'tf_bert_model/bert/pooler/dense/bias:0'] when minimizing the loss. If you're using `model.compile()`, did you forget to provide a `loss` argument?\n",
            "WARNING:tensorflow:Gradients do not exist for variables ['tf_bert_model/bert/pooler/dense/kernel:0', 'tf_bert_model/bert/pooler/dense/bias:0'] when minimizing the loss. If you're using `model.compile()`, did you forget to provide a `loss` argument?\n",
            "WARNING:tensorflow:Gradients do not exist for variables ['tf_bert_model/bert/pooler/dense/kernel:0', 'tf_bert_model/bert/pooler/dense/bias:0'] when minimizing the loss. If you're using `model.compile()`, did you forget to provide a `loss` argument?\n",
            "WARNING:tensorflow:Gradients do not exist for variables ['tf_bert_model/bert/pooler/dense/kernel:0', 'tf_bert_model/bert/pooler/dense/bias:0'] when minimizing the loss. If you're using `model.compile()`, did you forget to provide a `loss` argument?\n"
          ]
        },
        {
          "output_type": "stream",
          "name": "stdout",
          "text": [
            "94/94 [==============================] - 225s 2s/step - loss: 1.1277 - accuracy: 0.9458 - val_loss: 11.6689 - val_accuracy: 0.7290\n",
            "Epoch 2/5\n",
            "94/94 [==============================] - 161s 2s/step - loss: 0.7027 - accuracy: 0.9605 - val_loss: 12.9697 - val_accuracy: 0.7115\n",
            "Epoch 3/5\n",
            "94/94 [==============================] - 159s 2s/step - loss: 0.2371 - accuracy: 0.9808 - val_loss: 10.9318 - val_accuracy: 0.7200\n",
            "Epoch 4/5\n",
            "94/94 [==============================] - 175s 2s/step - loss: 0.2927 - accuracy: 0.9772 - val_loss: 11.1687 - val_accuracy: 0.7340\n",
            "Epoch 5/5\n",
            "94/94 [==============================] - 167s 2s/step - loss: 0.1292 - accuracy: 0.9888 - val_loss: 10.3691 - val_accuracy: 0.7400\n"
          ]
        }
      ]
    },
    {
      "cell_type": "code",
      "source": [
        " showPlots(history)"
      ],
      "metadata": {
        "colab": {
          "base_uri": "https://localhost:8080/",
          "height": 884
        },
        "id": "EZVrzkjtKV3N",
        "outputId": "28e58714-9a1b-40e9-f93e-8f9de6c1d55e"
      },
      "execution_count": null,
      "outputs": [
        {
          "output_type": "display_data",
          "data": {
            "text/plain": [
              "<Figure size 640x480 with 1 Axes>"
            ],
            "image/png": "[encoded data removed]"
          },
          "metadata": {}
        },
        {
          "output_type": "display_data",
          "data": {
            "text/plain": [
              "<Figure size 640x480 with 1 Axes>"
            ],
            "image/png": "[encoded data removed]"
          },
          "metadata": {}
        }
      ]
    },
    {
      "cell_type": "code",
      "source": [
        "with tf.device('/GPU:0'):\n",
        "  display(model.evaluate([token_ids_test, attention_masks_test, token_type_ids_test], y_test_bert_OH, verbose=0))\n",
        "  y_pred = model.predict([token_ids_test, attention_masks_test, token_type_ids_test])"
      ],
      "metadata": {
        "colab": {
          "base_uri": "https://localhost:8080/",
          "height": 53
        },
        "id": "8xbCzus2FvST",
        "outputId": "a29062e3-dadd-4d09-e627-c8f2295c80f6"
      },
      "execution_count": null,
      "outputs": [
        {
          "output_type": "display_data",
          "data": {
            "text/plain": [
              "[10.888700485229492, 0.7289999723434448]"
            ]
          },
          "metadata": {}
        },
        {
          "output_type": "stream",
          "name": "stdout",
          "text": [
            "63/63 [==============================] - 17s 273ms/step\n"
          ]
        }
      ]
    },
    {
      "cell_type": "code",
      "source": [
        "y_pred_OH = argmaxKeepDimensions(y_pred)\n",
        "accuray = accuracy_score(y_pred_OH, y_test_bert_OH)\n",
        "\n",
        "report = classification_report(y_test_bert_OH, y_pred_OH, target_names=['POS', 'NEG', 'NEUT'], output_dict=True)\n",
        "sb.heatmap(pd.DataFrame(report).iloc[:-1, :].T, annot=True, cmap='crest')\n",
        "\n",
        "print(\"Accuracy:\", accuray)"
      ],
      "metadata": {
        "colab": {
          "base_uri": "https://localhost:8080/",
          "height": 448
        },
        "id": "l3k01cE2KpV7",
        "outputId": "cdd16116-287b-4dd7-ffd4-488811c39ce3"
      },
      "execution_count": null,
      "outputs": [
        {
          "output_type": "stream",
          "name": "stdout",
          "text": [
            "Accuracy: 0.729\n"
          ]
        },
        {
          "output_type": "display_data",
          "data": {
            "text/plain": [
              "<Figure size 640x480 with 2 Axes>"
            ],
            "image/png": "[encoded data removed]"
          },
          "metadata": {}
        }
      ]
    },
    {
      "cell_type": "code",
      "source": [
        "labels = [0,1,2]\n",
        "cm = confusion_matrix(np.argmax(y_test_bert_OH, axis=1), np.argmax(y_pred_OH, axis=1), labels=labels)\n",
        "disp = ConfusionMatrixDisplay(confusion_matrix=cm, display_labels=['POS', 'NEG', 'NEUT'])\n",
        "disp.plot();"
      ],
      "metadata": {
        "colab": {
          "base_uri": "https://localhost:8080/",
          "height": 449
        },
        "id": "6ag8X6aQKsuT",
        "outputId": "b17d327c-6c6c-4c2b-e76f-66ec1baf4239"
      },
      "execution_count": null,
      "outputs": [
        {
          "output_type": "display_data",
          "data": {
            "text/plain": [
              "<Figure size 640x480 with 2 Axes>"
            ],
            "image/png": "[encoded data removed]"
          },
          "metadata": {}
        }
      ]
    },
    {
      "cell_type": "markdown",
      "source": [
        "# **Helper**"
      ],
      "metadata": {
        "id": "y68XaS_ZOPpL"
      }
    },
    {
      "cell_type": "code",
      "execution_count": null,
      "metadata": {
        "colab": {
          "base_uri": "https://localhost:8080/"
        },
        "id": "RgmFgUwMvcrm",
        "outputId": "751b4329-4862-4320-a5b6-c83ba1101e0a"
      },
      "outputs": [
        {
          "name": "stdout",
          "output_type": "stream",
          "text": [
            "index of samples which their body or headline are empty:  [  1514   1632   1830 ... 952604 955484 956398]\n"
          ]
        },
        {
          "data": {
            "text/plain": [
              "(958554, 958554, 958554)"
            ]
          },
          "execution_count": 4,
          "metadata": {},
          "output_type": "execute_result"
        }
      ],
      "source": [
        "# delete samples which their body or headline is empty\n",
        "\n",
        "def deleteSomeIndicesFromList(a, indices):\n",
        "  a = a.copy()\n",
        "  for index in sorted(indices, reverse=True):\n",
        "    a.pop(index)\n",
        "  return a\n",
        "\n",
        "indices = [i for i, x in enumerate(review_body_encoded) if len(x)==0]\n",
        "indices = indices + [i for i, x in enumerate(review_headline_encoded) if len(x)==0]\n",
        "indices = np.unique(indices)\n",
        "\n",
        "print('index of samples which their body or headline are empty: ', indices)\n",
        "\n",
        "review_body_dropped = deleteSomeIndicesFromList(review_body_encoded, indices)\n",
        "review_headline_dropped = deleteSomeIndicesFromList(review_headline_encoded, indices)\n",
        "rev_class_dropped = deleteSomeIndicesFromList(rev_class, indices)\n",
        "\n",
        "len(review_body_dropped), len(review_headline_dropped), len(rev_class_dropped)"
      ]
    }
  ],
  "metadata": {
    "colab": {
      "collapsed_sections": [
        "5J01Zkp8TVU9",
        "F3JtGILIWdTl",
        "8SltqeUhI1HR",
        "tm2JejePNGvq"
      ],
      "provenance": [],
      "gpuType": "T4",
      "include_colab_link": true
    },
    "kernelspec": {
      "display_name": "Python 3",
      "name": "python3"
    },
    "language_info": {
      "name": "python"
    },
    "accelerator": "GPU"
  },
  "nbformat": 4,
  "nbformat_minor": 0
}